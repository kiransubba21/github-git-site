{
 "cells": [
  {
   "cell_type": "code",
   "execution_count": 40,
   "id": "db642d03",
   "metadata": {},
   "outputs": [
    {
     "data": {
      "text/plain": [
       "3"
      ]
     },
     "execution_count": 40,
     "metadata": {},
     "output_type": "execute_result"
    }
   ],
   "source": [
    "def linear_search(arr,target):\n",
    "    for i in range(len(arr)):\n",
    "        if arr[i]==target:\n",
    "            return i #return index of target\n",
    "    return-1 #target not in list\n",
    "my_list=[1,2,3,4,5,6,7]\n",
    "linear_search(my_list,4)"
   ]
  },
  {
   "cell_type": "code",
   "execution_count": 42,
   "id": "81ab8e7a",
   "metadata": {},
   "outputs": [
    {
     "name": "stdout",
     "output_type": "stream",
     "text": [
      "2\n"
     ]
    }
   ],
   "source": [
    "#binary search\n",
    "def binary_search(arr,target):\n",
    "    low,high=0,len(arr)-1\n",
    "    while low<=high:\n",
    "        mid=(low+high)//2\n",
    "        if arr[mid]==target:\n",
    "            return mid\n",
    "        elif arr[mid]<target:\n",
    "            low=mid+1\n",
    "        else:\n",
    "            high=mid-1\n",
    "        return-1\n",
    "array=[1,2,4,5,8]\n",
    "target=4\n",
    "result=binary_search(array,target)\n",
    "print(result)"
   ]
  },
  {
   "cell_type": "code",
   "execution_count": 45,
   "id": "ddaf01fa",
   "metadata": {},
   "outputs": [
    {
     "name": "stdout",
     "output_type": "stream",
     "text": [
      "[1, 2, 5]\n"
     ]
    }
   ],
   "source": [
    "def merge_sort(arr):\n",
    "    if len(arr)<=1:\n",
    "        return arr\n",
    "    mid = len(arr)//2\n",
    "    left_hair=merge_sort(arr[:mid])\n",
    "    right_half=merge_sort(arr[mid:])\n",
    "    return merge(left_hair,right_half)\n",
    "def merge(left,right):\n",
    "    merged=[]\n",
    "    while left and right:\n",
    "        if left[0]<=right[0]:\n",
    "            merged.append(left.pop(0))\n",
    "        else:\n",
    "            merged.append(right.pop(0))\n",
    "        merged.extend(left or right)\n",
    "        return merged\n",
    "array=[5,2,8,4,1]\n",
    "sorted_array=merge_sort(array)\n",
    "print(sorted_array)\n",
    "     "
   ]
  },
  {
   "cell_type": "code",
   "execution_count": 52,
   "id": "348e5369",
   "metadata": {},
   "outputs": [
    {
     "ename": "NameError",
     "evalue": "name 'middle' is not defined",
     "output_type": "error",
     "traceback": [
      "\u001b[1;31m---------------------------------------------------------------------------\u001b[0m",
      "\u001b[1;31mNameError\u001b[0m                                 Traceback (most recent call last)",
      "Cell \u001b[1;32mIn[52], line 9\u001b[0m\n\u001b[0;32m      7\u001b[0m     \u001b[38;5;28;01mreturn\u001b[39;00m quick_sort(left)\u001b[38;5;241m+\u001b[39mmiddle\u001b[38;5;241m+\u001b[39mquick(right)\n\u001b[0;32m      8\u001b[0m array\u001b[38;5;241m=\u001b[39m[\u001b[38;5;241m5\u001b[39m,\u001b[38;5;241m8\u001b[39m,\u001b[38;5;241m2\u001b[39m,\u001b[38;5;241m4\u001b[39m,\u001b[38;5;241m1\u001b[39m]\n\u001b[1;32m----> 9\u001b[0m sorted_array\u001b[38;5;241m=\u001b[39m\u001b[43mquick_sort\u001b[49m\u001b[43m(\u001b[49m\u001b[43marray\u001b[49m\u001b[43m)\u001b[49m\n\u001b[0;32m     10\u001b[0m \u001b[38;5;28mprint\u001b[39m(sorted_array)\n",
      "Cell \u001b[1;32mIn[52], line 7\u001b[0m, in \u001b[0;36mquick_sort\u001b[1;34m(arr)\u001b[0m\n\u001b[0;32m      5\u001b[0m left\u001b[38;5;241m=\u001b[39m[x \u001b[38;5;28;01mfor\u001b[39;00m x \u001b[38;5;129;01min\u001b[39;00m arr \u001b[38;5;28;01mif\u001b[39;00m x\u001b[38;5;241m==\u001b[39mpivot]\n\u001b[0;32m      6\u001b[0m right \u001b[38;5;241m=\u001b[39m [x \u001b[38;5;28;01mfor\u001b[39;00m x \u001b[38;5;129;01min\u001b[39;00m arr \u001b[38;5;28;01mif\u001b[39;00m x \u001b[38;5;241m>\u001b[39mpivot]\n\u001b[1;32m----> 7\u001b[0m \u001b[38;5;28;01mreturn\u001b[39;00m quick_sort(left)\u001b[38;5;241m+\u001b[39m\u001b[43mmiddle\u001b[49m\u001b[38;5;241m+\u001b[39mquick(right)\n",
      "\u001b[1;31mNameError\u001b[0m: name 'middle' is not defined"
     ]
    }
   ],
   "source": [
    "def quick_sort(arr):\n",
    "    if len(arr)<=1:\n",
    "        return arr\n",
    "    pivot=arr[len(arr)//2]\n",
    "    left=[x for x in arr if x==pivot]\n",
    "    right = [x for x in arr if x >pivot]\n",
    "    return quick_sort(left)+middle+quick(right)\n",
    "array=[5,8,2,4,1]\n",
    "sorted_array=quick_sort(array)\n",
    "print(sorted_array)"
   ]
  },
  {
   "cell_type": "code",
   "execution_count": null,
   "id": "f18af922",
   "metadata": {},
   "outputs": [],
   "source": []
  }
 ],
 "metadata": {
  "kernelspec": {
   "display_name": "Python 3 (ipykernel)",
   "language": "python",
   "name": "python3"
  },
  "language_info": {
   "codemirror_mode": {
    "name": "ipython",
    "version": 3
   },
   "file_extension": ".py",
   "mimetype": "text/x-python",
   "name": "python",
   "nbconvert_exporter": "python",
   "pygments_lexer": "ipython3",
   "version": "3.10.9"
  }
 },
 "nbformat": 4,
 "nbformat_minor": 5
}
