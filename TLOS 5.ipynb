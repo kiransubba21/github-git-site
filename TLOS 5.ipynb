{
 "cells": [
  {
   "cell_type": "markdown",
   "id": "e2548b69",
   "metadata": {},
   "source": [
    "Basic if statement with input"
   ]
  },
  {
   "cell_type": "code",
   "execution_count": 1,
   "id": "bc90a80a",
   "metadata": {},
   "outputs": [
    {
     "name": "stdout",
     "output_type": "stream",
     "text": [
      "Enter the temperature: 29\n"
     ]
    }
   ],
   "source": [
    "temperature = int(input(\"Enter the temperature: \"))\n",
    "if temperature > 30:\n",
    "    print(\"It's hot outside!\")\n"
   ]
  },
  {
   "cell_type": "markdown",
   "id": "61c0a6cf",
   "metadata": {},
   "source": [
    "if-else statement with input"
   ]
  },
  {
   "cell_type": "code",
   "execution_count": 2,
   "id": "7cd9bd47",
   "metadata": {},
   "outputs": [
    {
     "name": "stdout",
     "output_type": "stream",
     "text": [
      "It's not hot outside!\n"
     ]
    }
   ],
   "source": [
    "if temperature > 30:\n",
    "    print(\"It's hot outside!\")\n",
    "else:\n",
    "    print(\"It's not hot outside!\")\n"
   ]
  },
  {
   "cell_type": "markdown",
   "id": "a4ec06a8",
   "metadata": {},
   "source": [
    "if-elif-else statement with input"
   ]
  },
  {
   "cell_type": "code",
   "execution_count": 3,
   "id": "cc6fbec2",
   "metadata": {},
   "outputs": [
    {
     "name": "stdout",
     "output_type": "stream",
     "text": [
      "It's a pleasant day.\n"
     ]
    }
   ],
   "source": [
    "if temperature > 30:\n",
    "    print(\"It's hot outside!\")\n",
    "elif 20 <= temperature <= 30:\n",
    "    print(\"It's a pleasant day.\")\n",
    "else:\n",
    "    print(\"It's cold outside!\")\n"
   ]
  },
  {
   "cell_type": "markdown",
   "id": "56449922",
   "metadata": {},
   "source": [
    "Multiple branches with if-elif-else and input"
   ]
  },
  {
   "cell_type": "code",
   "execution_count": 4,
   "id": "9c5d8477",
   "metadata": {},
   "outputs": [
    {
     "name": "stdout",
     "output_type": "stream",
     "text": [
      "Enter an animal type: dog\n",
      "I don't know this animal.\n"
     ]
    }
   ],
   "source": [
    "animal = input(\"Enter an animal type: \")\n",
    "\n",
    "if animal == \"Dog\":\n",
    "    print(\"Woof!\")\n",
    "elif animal == \"Cat\":\n",
    "    print(\"Meow!\")\n",
    "elif animal == \"Bird\":\n",
    "    print(\"Chirp!\")\n",
    "else:\n",
    "    print(\"I don't know this animal.\")\n"
   ]
  },
  {
   "cell_type": "markdown",
   "id": "dd3d0bcc",
   "metadata": {},
   "source": [
    "For loops\n",
    "Iterating through a list with input\n"
   ]
  },
  {
   "cell_type": "code",
   "execution_count": null,
   "id": "24682610",
   "metadata": {},
   "outputs": [
    {
     "name": "stdout",
     "output_type": "stream",
     "text": [
      "Enter the number of elements in the list: 3\n",
      "Enter element 1: 4\n"
     ]
    }
   ],
   "source": [
    "num_elements = int(input(\"Enter the number of elements in the list: \"))\n",
    "elements = []\n",
    "for i in range(num_elements):\n",
    "    element = int(input(f\"Enter element {i + 1}: \"))\n",
    "    elements.append(element)\n",
    "for num in elements:\n",
    "    print(num)\n"
   ]
  },
  {
   "cell_type": "code",
   "execution_count": null,
   "id": "02495ef2",
   "metadata": {},
   "outputs": [],
   "source": [
    "Iterating through a string\n"
   ]
  },
  {
   "cell_type": "code",
   "execution_count": null,
   "id": "06dbc9dc",
   "metadata": {},
   "outputs": [],
   "source": [
    " with input\n",
    "input_string = input(\"Enter a string: \")\n",
    "for char in input_string:\n",
    "    print('Hello')"
   ]
  },
  {
   "cell_type": "code",
   "execution_count": null,
   "id": "a5323a6c",
   "metadata": {},
   "outputs": [],
   "source": [
    "\n",
    "    \n",
    "\n"
   ]
  },
  {
   "cell_type": "code",
   "execution_count": null,
   "id": "4d08a085",
   "metadata": {},
   "outputs": [],
   "source": []
  }
 ],
 "metadata": {
  "kernelspec": {
   "display_name": "Python 3 (ipykernel)",
   "language": "python",
   "name": "python3"
  },
  "language_info": {
   "codemirror_mode": {
    "name": "ipython",
    "version": 3
   },
   "file_extension": ".py",
   "mimetype": "text/x-python",
   "name": "python",
   "nbconvert_exporter": "python",
   "pygments_lexer": "ipython3",
   "version": "3.10.9"
  }
 },
 "nbformat": 4,
 "nbformat_minor": 5
}
