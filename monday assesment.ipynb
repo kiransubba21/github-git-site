{
 "cells": [
  {
   "cell_type": "markdown",
   "id": "8db36b8d-8910-4594-8e17-8ee61f4ec449",
   "metadata": {},
   "source": [
    "1. File Reading and Writing "
   ]
  },
  {
   "cell_type": "code",
   "execution_count": 29,
   "id": "52113088-2c50-49c1-870a-5d2b6d11e77a",
   "metadata": {},
   "outputs": [],
   "source": [
    "file = open('input.txt', 'w')\n",
    "file.write('Hello World!W3Schools is optimized for learning and training. Examples might be simplified to improve reading and learning')\n",
    "file.close()"
   ]
  },
  {
   "cell_type": "code",
   "execution_count": 30,
   "id": "4c971386-15fc-46dc-805f-51a009c19271",
   "metadata": {},
   "outputs": [],
   "source": [
    "file = open('input.txt', 'r')\n",
    "contents = file.read()"
   ]
  },
  {
   "cell_type": "code",
   "execution_count": 31,
   "id": "543d60fb-dac9-47a4-bdc2-3776a21d4e29",
   "metadata": {},
   "outputs": [
    {
     "name": "stdout",
     "output_type": "stream",
     "text": [
      "['Hello', 'World!W3Schools', 'is', 'optimized', 'for', 'learning', 'and', 'training.', 'Examples', 'might', 'be', 'simplified', 'to', 'improve', 'reading', 'and', 'learning']\n"
     ]
    }
   ],
   "source": [
    "myStr = contents\n",
    "my_list = myStr.split()\n",
    "\n",
    "print( my_list)\n"
   ]
  },
  {
   "cell_type": "code",
   "execution_count": 32,
   "id": "d2a440ea-b435-424c-b8bb-fdfc0cf1afde",
   "metadata": {},
   "outputs": [
    {
     "name": "stdout",
     "output_type": "stream",
     "text": [
      "['learning', 'and', 'reading', 'improve', 'to', 'simplified', 'be', 'might', 'Examples', 'training.', 'and', 'learning', 'for', 'optimized', 'is', 'World!W3Schools', 'Hello']\n"
     ]
    }
   ],
   "source": [
    "main_list=my_list[::-1]\n",
    "print(main_list)\n",
    "file.close()"
   ]
  },
  {
   "cell_type": "code",
   "execution_count": 33,
   "id": "e172e96f-4ef5-4233-8d49-24319e94cbcb",
   "metadata": {},
   "outputs": [
    {
     "name": "stdout",
     "output_type": "stream",
     "text": [
      "learning and reading improve to simplified be might Examples training. and learning for optimized is World!W3Schools Hello\n"
     ]
    }
   ],
   "source": [
    "my_list = my_list[::-1]\n",
    "my_string = ' '.join(my_list)\n",
    "print(my_string)\n"
   ]
  },
  {
   "cell_type": "markdown",
   "id": "0a250d3f-0602-43bb-a019-a269159821f7",
   "metadata": {},
   "source": [
    "2.Object Orinented Programming"
   ]
  },
  {
   "cell_type": "code",
   "execution_count": 37,
   "id": "a3638327-1873-436a-9de3-bfd066a7c7ab",
   "metadata": {},
   "outputs": [
    {
     "name": "stdin",
     "output_type": "stream",
     "text": [
      "Enter the radius of the circle:  3\n"
     ]
    },
    {
     "name": "stdout",
     "output_type": "stream",
     "text": [
      "Area of the circle is 28.27\n",
      "Circumference of the circle is 18.85\n"
     ]
    }
   ],
   "source": [
    "import math\n",
    "\n",
    "class Circle:\n",
    "    def __init__(self, radius):\n",
    "        self.radius = radius\n",
    "\n",
    "    def area(self):\n",
    "        return math.pi * self.radius ** 2\n",
    "\n",
    "    def circumference(self):\n",
    "        return 2 * math.pi * self.radius\n",
    "\n",
    "radius = float(input(\"Enter the radius of the circle: \"))\n",
    "circle = Circle(radius)\n",
    "print(f\"Area of the circle is {circle.area():.2f}\")\n",
    "print(f\"Circumference of the circle is {circle.circumference():.2f}\")\n"
   ]
  },
  {
   "cell_type": "code",
   "execution_count": null,
   "id": "5c9f4c5e-f0fd-45a1-86ef-38361a87e29e",
   "metadata": {},
   "outputs": [],
   "source": []
  }
 ],
 "metadata": {
  "kernelspec": {
   "display_name": "Python 3 (ipykernel)",
   "language": "python",
   "name": "python3"
  },
  "language_info": {
   "codemirror_mode": {
    "name": "ipython",
    "version": 3
   },
   "file_extension": ".py",
   "mimetype": "text/x-python",
   "name": "python",
   "nbconvert_exporter": "python",
   "pygments_lexer": "ipython3",
   "version": "3.10.9"
  }
 },
 "nbformat": 4,
 "nbformat_minor": 5
}
