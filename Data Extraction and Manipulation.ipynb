{
 "cells": [
  {
   "cell_type": "code",
   "execution_count": 2,
   "id": "b915a0e1",
   "metadata": {},
   "outputs": [
    {
     "name": "stdout",
     "output_type": "stream",
     "text": [
      "page Title: Skill Drill Studio Dombivali - Best Discounts By Fitternity | Fitternity\n"
     ]
    }
   ],
   "source": [
    "from bs4 import BeautifulSoup\n",
    "import requests\n",
    "url='https://www.fitternity.com/skill-drill-studio-dombivali'\n",
    "response=requests.get(url)\n",
    "soup=BeautifulSoup(response.text,'html.parser')\n",
    "#Extract title of the page\n",
    "page_title=soup.title.text\n",
    "print('page Title:',page_title)"
   ]
  },
  {
   "cell_type": "code",
   "execution_count": 9,
   "id": "69e5ad65",
   "metadata": {},
   "outputs": [],
   "source": [
    "import requests\n",
    "from PIL import Image\n",
    "from io import BytesIO\n",
    "url=\"https://www.swipsystems.com/wp-content/uploads/2019/04/technology-is-changing-business.jpeg\"\n",
    "\n",
    "img=Image.open(BytesIO(response.content))\n",
    "img.save(\"wiki_logo.png\")"
   ]
  },
  {
   "cell_type": "code",
   "execution_count": 3,
   "id": "2e8ac2d8",
   "metadata": {},
   "outputs": [
    {
     "name": "stdout",
     "output_type": "stream",
     "text": [
      "['Name', 'Age', 'Grade']\n",
      "['Alice', '12', '7th']\n",
      "['Bob', '13', '8th']\n"
     ]
    }
   ],
   "source": [
    "import csv\n",
    "#Writing to CSV file\n",
    "with open('students.csv','w',newline='')as file:\n",
    "  writer=csv.writer(file)\n",
    "  writer.writerow([\"Name\",\"Age\",\"Grade\"])\n",
    "  writer.writerow([\"Alice\",\"12\",\"7th\"])\n",
    "  writer.writerow([\"Bob\",\"13\",\"8th\"])\n",
    "#Reading from a CSV file\n",
    "with open('students.csv','r')as file:\n",
    "  reader=csv.reader(file)\n",
    "  for row in reader:\n",
    "    print(row)"
   ]
  },
  {
   "cell_type": "code",
   "execution_count": 4,
   "id": "2a8309fd",
   "metadata": {},
   "outputs": [
    {
     "ename": "ModuleNotFoundError",
     "evalue": "No module named 'PYPDF2'",
     "output_type": "error",
     "traceback": [
      "\u001b[1;31m---------------------------------------------------------------------------\u001b[0m",
      "\u001b[1;31mModuleNotFoundError\u001b[0m                       Traceback (most recent call last)",
      "Cell \u001b[1;32mIn[4], line 1\u001b[0m\n\u001b[1;32m----> 1\u001b[0m \u001b[38;5;28;01mimport\u001b[39;00m \u001b[38;5;21;01mPYPDF2\u001b[39;00m\n\u001b[0;32m      2\u001b[0m \u001b[38;5;66;03m#Reading a PDF file\u001b[39;00m\n\u001b[0;32m      3\u001b[0m \u001b[38;5;28;01mwith\u001b[39;00m \u001b[38;5;28mopen\u001b[39m(\u001b[38;5;124m'\u001b[39m\u001b[38;5;124msample.pdf\u001b[39m\u001b[38;5;124m'\u001b[39m,\u001b[38;5;124m'\u001b[39m\u001b[38;5;124mrb\u001b[39m\u001b[38;5;124m'\u001b[39m)\u001b[38;5;28;01mas\u001b[39;00m file:\n",
      "\u001b[1;31mModuleNotFoundError\u001b[0m: No module named 'PYPDF2'"
     ]
    }
   ],
   "source": [
    "import PYPDF2\n",
    "#Reading a PDF file\n",
    "with open('sample.pdf','rb')as file:\n",
    "    reader=PYPDF2.PdfFileReader(file)\n",
    "    print('Number of pages:',reader.numpages)\n",
    "    page=reader.getpage(0)\n",
    "    print('Page Text',Page.extractText())"
   ]
  },
  {
   "cell_type": "code",
   "execution_count": 15,
   "id": "d1fb0fa9",
   "metadata": {},
   "outputs": [],
   "source": [
    "#Create a new workbook and add some data\n",
    "from openpyxl import Workbook\n",
    "wb=Workbook()\n",
    "ws=wb.active\n",
    "\n",
    "data=[\n",
    "  [\"Fruit\",\"Quantity\"],\n",
    "  [\"Kiwi\",3],\n",
    "  [\"Grape\",15],\n",
    "  [\"Apple\",7]\n",
    "]\n",
    "\n",
    "for row in data:\n",
    "    ws.append(row)\n",
    "wb.save(\"fruits.xlsx\")"
   ]
  },
  {
   "cell_type": "code",
   "execution_count": null,
   "id": "e49e85eb",
   "metadata": {},
   "outputs": [],
   "source": []
  }
 ],
 "metadata": {
  "kernelspec": {
   "display_name": "Python 3 (ipykernel)",
   "language": "python",
   "name": "python3"
  },
  "language_info": {
   "codemirror_mode": {
    "name": "ipython",
    "version": 3
   },
   "file_extension": ".py",
   "mimetype": "text/x-python",
   "name": "python",
   "nbconvert_exporter": "python",
   "pygments_lexer": "ipython3",
   "version": "3.10.9"
  }
 },
 "nbformat": 4,
 "nbformat_minor": 5
}
