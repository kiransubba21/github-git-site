{
 "cells": [
  {
   "cell_type": "markdown",
   "id": "9d606f99",
   "metadata": {},
   "source": [
    "Create a script that checks if the variable num is an even number between 10 and 20 (inclusive) and prints the result."
   ]
  },
  {
   "cell_type": "code",
   "execution_count": 26,
   "id": "d311e1f0",
   "metadata": {},
   "outputs": [
    {
     "name": "stdout",
     "output_type": "stream",
     "text": [
      "True\n"
     ]
    }
   ],
   "source": [
    "num = 14\n",
    "result = 10 <= num <= 20 and num % 2 == 0\n",
    "print(result)\n"
   ]
  },
  {
   "cell_type": "markdown",
   "id": "a1bd59bf",
   "metadata": {},
   "source": [
    "Create a script that checks if the length of the string text is between 5 and 10 characters (inclusive) and contains the letter \"a\". Print the result."
   ]
  },
  {
   "cell_type": "code",
   "execution_count": 27,
   "id": "bfff53c7",
   "metadata": {},
   "outputs": [
    {
     "name": "stdout",
     "output_type": "stream",
     "text": [
      "True\n"
     ]
    }
   ],
   "source": [
    "text = \"banana\"\n",
    "result = 5 <= len(text) <= 10 and 'a' in text\n",
    "print(result)\n"
   ]
  },
  {
   "cell_type": "markdown",
   "id": "51ad17ee",
   "metadata": {},
   "source": [
    "Create a script that checks if the variable temperature is between 15 and 25 degrees Celsius (inclusive) or if the variable humidity is less than 30%. Print the result."
   ]
  },
  {
   "cell_type": "code",
   "execution_count": 28,
   "id": "1382d5d6",
   "metadata": {},
   "outputs": [
    {
     "name": "stdout",
     "output_type": "stream",
     "text": [
      "True\n"
     ]
    }
   ],
   "source": [
    "temperature = 20\n",
    "humidity = 40\n",
    "result = 15 <= temperature <= 25 or humidity < 30\n",
    "print(result)\n"
   ]
  },
  {
   "cell_type": "markdown",
   "id": "b10420cd",
   "metadata": {},
   "source": [
    "Create a script that checks if the variable x is not equal to the variable y and if the variable z is greater than both x and y. Print the result."
   ]
  },
  {
   "cell_type": "code",
   "execution_count": 29,
   "id": "104f5610",
   "metadata": {},
   "outputs": [
    {
     "name": "stdout",
     "output_type": "stream",
     "text": [
      "True\n"
     ]
    }
   ],
   "source": [
    "x = 5\n",
    "y = 7\n",
    "z = 10\n",
    "result = x != y and z > x and z > y\n",
    "print(result)\n"
   ]
  },
  {
   "cell_type": "markdown",
   "id": "c8239d40",
   "metadata": {},
   "source": [
    "Create a script that checks if the variable a is equal to the variable b or if the variable c is equal to the variable d. Print the result.\n",
    "\n"
   ]
  },
  {
   "cell_type": "code",
   "execution_count": 30,
   "id": "ec6b7d19",
   "metadata": {},
   "outputs": [
    {
     "name": "stdout",
     "output_type": "stream",
     "text": [
      "True\n"
     ]
    }
   ],
   "source": [
    "a = 3\n",
    "b = 3\n",
    "c = 6\n",
    "d = 7\n",
    "result = a == b or c == d\n",
    "print(result)\n"
   ]
  },
  {
   "cell_type": "markdown",
   "id": "9a67871c",
   "metadata": {},
   "source": [
    "Create a script that checks if the variable num1 is an odd number and if the variable num2 is an even number. Print the result.\n",
    "\n"
   ]
  },
  {
   "cell_type": "code",
   "execution_count": 31,
   "id": "85b68af2",
   "metadata": {},
   "outputs": [
    {
     "name": "stdout",
     "output_type": "stream",
     "text": [
      "True\n"
     ]
    }
   ],
   "source": [
    "num1 = 9\n",
    "num2 = 8\n",
    "result = num1 % 2 != 0 and num2 % 2 == 0\n",
    "print(result)\n"
   ]
  },
  {
   "cell_type": "markdown",
   "id": "c4d52c36",
   "metadata": {},
   "source": [
    "Create a script that checks if the variable age is between 13 and 19 (inclusive) or if the variable grade is between 7 and 12 (inclusive). Print the result.\n",
    "\n"
   ]
  },
  {
   "cell_type": "code",
   "execution_count": 33,
   "id": "b97b7bf0",
   "metadata": {},
   "outputs": [
    {
     "name": "stdout",
     "output_type": "stream",
     "text": [
      "True\n"
     ]
    }
   ],
   "source": [
    "age = 15\n",
    "grade = 8\n",
    "result = 13 <= age <= 19 or 7 <= grade <= 12\n",
    "print(result)\n",
    "\n"
   ]
  },
  {
   "cell_type": "markdown",
   "id": "5ce5de1e",
   "metadata": {},
   "source": [
    "Create a script that checks if the variable score is not between 30 and 60 (inclusive). Print the result.\n",
    "\n"
   ]
  },
  {
   "cell_type": "code",
   "execution_count": 34,
   "id": "224e19c6",
   "metadata": {},
   "outputs": [
    {
     "name": "stdout",
     "output_type": "stream",
     "text": [
      "True\n"
     ]
    }
   ],
   "source": [
    "score = 25\n",
    "result = not (30 <= score <= 60)\n",
    "print(result)\n"
   ]
  },
  {
   "cell_type": "code",
   "execution_count": null,
   "id": "cf35f2fd",
   "metadata": {},
   "outputs": [],
   "source": []
  }
 ],
 "metadata": {
  "kernelspec": {
   "display_name": "Python 3 (ipykernel)",
   "language": "python",
   "name": "python3"
  },
  "language_info": {
   "codemirror_mode": {
    "name": "ipython",
    "version": 3
   },
   "file_extension": ".py",
   "mimetype": "text/x-python",
   "name": "python",
   "nbconvert_exporter": "python",
   "pygments_lexer": "ipython3",
   "version": "3.10.9"
  }
 },
 "nbformat": 4,
 "nbformat_minor": 5
}
