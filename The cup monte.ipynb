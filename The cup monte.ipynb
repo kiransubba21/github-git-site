{
 "cells": [
  {
   "cell_type": "code",
   "execution_count": null,
   "id": "ac7aaa31",
   "metadata": {},
   "outputs": [],
   "source": [
    "from random import shuffle\n",
    "def my_random_list(myfirstlist):\n",
    "    shuffle(myfirstlist)\n",
    "    return myfirstlist\n",
    "def user_guess():\n",
    "    guessed = ''\n",
    "    while guessed not in ['0','1','2']:\n",
    "        guessed = input('pick a number 0,1 or 2')\n",
    "    return int(guessed)\n",
    "def checking_user_guess(myfirstlist,guessed):\n",
    "    if myfirstlist[guessed] == '0':\n",
    "        print ('correct')\n",
    "    else:\n",
    "        print('wrong choice')\n",
    "        print(myfirstlist)\n",
    "#INITIAL LIST\n",
    "myfirstlist = ['0','','']\n",
    "#shuffle list\n",
    "mixed_list = my_random_list(myfirstlist)\n",
    "print (mixed_list)\n",
    "#user guess\n",
    "guessed = user_guess()\n",
    "#check user guess\n",
    "checking_user_guess(mixed_list,guessed)\n"
   ]
  },
  {
   "cell_type": "code",
   "execution_count": null,
   "id": "9cd85f2c",
   "metadata": {},
   "outputs": [],
   "source": []
  }
 ],
 "metadata": {
  "kernelspec": {
   "display_name": "Python 3 (ipykernel)",
   "language": "python",
   "name": "python3"
  },
  "language_info": {
   "codemirror_mode": {
    "name": "ipython",
    "version": 3
   },
   "file_extension": ".py",
   "mimetype": "text/x-python",
   "name": "python",
   "nbconvert_exporter": "python",
   "pygments_lexer": "ipython3",
   "version": "3.10.9"
  }
 },
 "nbformat": 4,
 "nbformat_minor": 5
}
