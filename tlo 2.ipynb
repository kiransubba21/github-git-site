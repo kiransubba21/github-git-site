{
 "cells": [
  {
   "cell_type": "code",
   "execution_count": 1,
   "id": "22e88f06",
   "metadata": {},
   "outputs": [
    {
     "name": "stdout",
     "output_type": "stream",
     "text": [
      "30 35.0 2.857142857142857\n"
     ]
    }
   ],
   "source": [
    "a=10\n",
    "b=3.5\n",
    "c=\"20\"\n",
    "result1= a+int(c)\n",
    "result2=a*b\n",
    "result3=a/b\n",
    "print(result1,result2,result3)"
   ]
  },
  {
   "cell_type": "code",
   "execution_count": 2,
   "id": "e631f908",
   "metadata": {},
   "outputs": [
    {
     "name": "stdout",
     "output_type": "stream",
     "text": [
      "is\n"
     ]
    }
   ],
   "source": [
    "s=\"programming is fun!\"\n",
    "extracted_word=s[12:14]\n",
    "print(extracted_word)"
   ]
  },
  {
   "cell_type": "code",
   "execution_count": 5,
   "id": "40de80a7",
   "metadata": {},
   "outputs": [],
   "source": [
    "l=10\n",
    "w=5\n",
    "area=l*w"
   ]
  },
  {
   "cell_type": "code",
   "execution_count": 6,
   "id": "9c10e4e4",
   "metadata": {},
   "outputs": [
    {
     "name": "stdout",
     "output_type": "stream",
     "text": [
      "The area of the rectangles is: 50\n"
     ]
    }
   ],
   "source": [
    "print(\"The area of the rectangles is:\",area)"
   ]
  },
  {
   "cell_type": "code",
   "execution_count": 8,
   "id": "fc83e827",
   "metadata": {},
   "outputs": [
    {
     "name": "stdout",
     "output_type": "stream",
     "text": [
      "sum: 15\n",
      "Difference: -5\n",
      "product: 50\n",
      "Quotient: 0.5\n"
     ]
    }
   ],
   "source": [
    "x=5\n",
    "y=10\n",
    "sum_result=x+y\n",
    "diff_result=x-y\n",
    "prod_result=x*y\n",
    "quot_result=x/y\n",
    "print(\"sum:\",sum_result)\n",
    "print(\"Difference:\",diff_result)\n",
    "print(\"product:\",prod_result)\n",
    "print(\"Quotient:\",quot_result)"
   ]
  },
  {
   "cell_type": "code",
   "execution_count": 9,
   "id": "739552e3",
   "metadata": {},
   "outputs": [
    {
     "name": "stdout",
     "output_type": "stream",
     "text": [
      "The remainder of the division is: 3\n"
     ]
    }
   ],
   "source": [
    "a=15\n",
    "b=4\n",
    "remainder=a%b\n",
    "print(\"The remainder of the division is:\",remainder)"
   ]
  },
  {
   "cell_type": "code",
   "execution_count": 10,
   "id": "f791dc17",
   "metadata": {},
   "outputs": [
    {
     "name": "stdout",
     "output_type": "stream",
     "text": [
      "enter the first number:12\n",
      "enter the second number:14\n",
      "sum: 26.0\n",
      "difference: -2.0\n",
      "product: 0.8571428571428571\n"
     ]
    }
   ],
   "source": [
    "x=float(input(\"enter the first number:\")) \n",
    "y=float(input(\"enter the second number:\"))\n",
    "sum_result=x+y\n",
    "diff_result=x-y\n",
    "prod_result=x*y\n",
    "quot_result=x/y\n",
    "print(\"sum:\",sum_result)\n",
    "print(\"difference:\",diff_result)\n",
    "print(\"product:\",quot_result)\n",
    "        "
   ]
  },
  {
   "cell_type": "code",
   "execution_count": 11,
   "id": "7e9c4bd2",
   "metadata": {},
   "outputs": [
    {
     "name": "stdout",
     "output_type": "stream",
     "text": [
      "enter the length of rectangleP:77\n",
      "enter the width of the rectangle:52\n",
      "the area of the rectangle is: 4004.0\n"
     ]
    }
   ],
   "source": [
    "i=float(input(\"enter the length of rectangleP:\"))\n",
    "w=float(input(\"enter the width of the rectangle:\"))\n",
    "area=i*w\n",
    "print(\"the area of the rectangle is:\",area)"
   ]
  },
  {
   "cell_type": "code",
   "execution_count": null,
   "id": "d6c829a1",
   "metadata": {},
   "outputs": [],
   "source": []
  }
 ],
 "metadata": {
  "kernelspec": {
   "display_name": "Python 3 (ipykernel)",
   "language": "python",
   "name": "python3"
  },
  "language_info": {
   "codemirror_mode": {
    "name": "ipython",
    "version": 3
   },
   "file_extension": ".py",
   "mimetype": "text/x-python",
   "name": "python",
   "nbconvert_exporter": "python",
   "pygments_lexer": "ipython3",
   "version": "3.10.9"
  }
 },
 "nbformat": 4,
 "nbformat_minor": 5
}
