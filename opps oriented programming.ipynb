{
 "cells": [
  {
   "cell_type": "code",
   "execution_count": 41,
   "id": "1119b7fe",
   "metadata": {},
   "outputs": [],
   "source": [
    "class Car():\n",
    "    def __init__(self,color,model,make):\n",
    "        self.color = color\n",
    "        self.model = model\n",
    "        self.make = make\n",
    "    def accelerate(self):\n",
    "        print('The car is accelerating')\n",
    "    def brake(self):\n",
    "        print('The car is braking')"
   ]
  },
  {
   "cell_type": "code",
   "execution_count": 42,
   "id": "e2e2fa53",
   "metadata": {},
   "outputs": [],
   "source": [
    "my_car = Car('Red','Ferrari','488GTB')"
   ]
  },
  {
   "cell_type": "code",
   "execution_count": 43,
   "id": "5e62c2fb",
   "metadata": {},
   "outputs": [
    {
     "data": {
      "text/plain": [
       "'488GTB'"
      ]
     },
     "execution_count": 43,
     "metadata": {},
     "output_type": "execute_result"
    }
   ],
   "source": [
    "my_car.make"
   ]
  },
  {
   "cell_type": "code",
   "execution_count": 44,
   "id": "08c9143e",
   "metadata": {},
   "outputs": [
    {
     "name": "stdout",
     "output_type": "stream",
     "text": [
      "The car is accelerating\n"
     ]
    }
   ],
   "source": [
    "my_car.accelerate()"
   ]
  },
  {
   "cell_type": "code",
   "execution_count": 45,
   "id": "130a10f4",
   "metadata": {},
   "outputs": [
    {
     "name": "stdout",
     "output_type": "stream",
     "text": [
      "The car is braking\n"
     ]
    }
   ],
   "source": [
    "my_car.brake()"
   ]
  },
  {
   "cell_type": "code",
   "execution_count": 21,
   "id": "f0d3d067",
   "metadata": {},
   "outputs": [],
   "source": [
    "mylist=[1,2,3]"
   ]
  },
  {
   "cell_type": "code",
   "execution_count": 22,
   "id": "87c42d0b",
   "metadata": {},
   "outputs": [
    {
     "data": {
      "text/plain": [
       "[1, 2, 3]"
      ]
     },
     "execution_count": 22,
     "metadata": {},
     "output_type": "execute_result"
    }
   ],
   "source": [
    "mylist"
   ]
  },
  {
   "cell_type": "code",
   "execution_count": 23,
   "id": "a08c9dfe",
   "metadata": {},
   "outputs": [],
   "source": [
    "myset = [1,2,3,4,4,5,5]"
   ]
  },
  {
   "cell_type": "code",
   "execution_count": 24,
   "id": "52223857",
   "metadata": {},
   "outputs": [],
   "source": [
    "myset = set()"
   ]
  },
  {
   "cell_type": "code",
   "execution_count": 27,
   "id": "97607487",
   "metadata": {},
   "outputs": [
    {
     "data": {
      "text/plain": [
       "set()"
      ]
     },
     "execution_count": 27,
     "metadata": {},
     "output_type": "execute_result"
    }
   ],
   "source": [
    "myset"
   ]
  },
  {
   "cell_type": "code",
   "execution_count": 28,
   "id": "e648036c",
   "metadata": {},
   "outputs": [],
   "source": [
    "class sample():\n",
    "    pass"
   ]
  },
  {
   "cell_type": "code",
   "execution_count": 29,
   "id": "b0730490",
   "metadata": {},
   "outputs": [],
   "source": [
    "my_sample = sample()"
   ]
  },
  {
   "cell_type": "code",
   "execution_count": 30,
   "id": "f276b6bc",
   "metadata": {},
   "outputs": [
    {
     "data": {
      "text/plain": [
       "__main__.sample"
      ]
     },
     "execution_count": 30,
     "metadata": {},
     "output_type": "execute_result"
    }
   ],
   "source": [
    "type(my_sample)"
   ]
  },
  {
   "cell_type": "code",
   "execution_count": 46,
   "id": "a76f2a09",
   "metadata": {},
   "outputs": [],
   "source": [
    "class Dog():\n",
    "    def __init__(self,breed):\n",
    "        self.breed=breed"
   ]
  },
  {
   "cell_type": "code",
   "execution_count": 47,
   "id": "b05af5e5",
   "metadata": {},
   "outputs": [],
   "source": [
    "my_dog = Dog('Lab')"
   ]
  },
  {
   "cell_type": "code",
   "execution_count": 48,
   "id": "15a96b4f",
   "metadata": {},
   "outputs": [
    {
     "data": {
      "text/plain": [
       "__main__.Dog"
      ]
     },
     "execution_count": 48,
     "metadata": {},
     "output_type": "execute_result"
    }
   ],
   "source": [
    "type(my_dog)"
   ]
  },
  {
   "cell_type": "code",
   "execution_count": 49,
   "id": "91d74a14",
   "metadata": {},
   "outputs": [
    {
     "data": {
      "text/plain": [
       "'Lab'"
      ]
     },
     "execution_count": 49,
     "metadata": {},
     "output_type": "execute_result"
    }
   ],
   "source": [
    "my_dog.breed"
   ]
  },
  {
   "cell_type": "code",
   "execution_count": 50,
   "id": "a76fdb40",
   "metadata": {},
   "outputs": [],
   "source": [
    "class Dog():\n",
    "    #Attributes\n",
    "    #We take in the argument\n",
    "    #assign it to self.attribute\n",
    "    def __init__(self,mybreed):\n",
    "        self.my_attribute = mybreed"
   ]
  },
  {
   "cell_type": "code",
   "execution_count": 51,
   "id": "945914fc",
   "metadata": {},
   "outputs": [],
   "source": [
    "my_dog = Dog('Lab')"
   ]
  },
  {
   "cell_type": "code",
   "execution_count": 52,
   "id": "20ed9bb0",
   "metadata": {},
   "outputs": [
    {
     "data": {
      "text/plain": [
       "'Lab'"
      ]
     },
     "execution_count": 52,
     "metadata": {},
     "output_type": "execute_result"
    }
   ],
   "source": [
    "my_dog.my_attribute"
   ]
  },
  {
   "cell_type": "code",
   "execution_count": 53,
   "id": "06a6a971",
   "metadata": {},
   "outputs": [],
   "source": [
    "class Dog():\n",
    "    def __init__(self,breed,name,sports):\n",
    "        self.breed = breed\n",
    "        self.name = name\n",
    "        #expecting a boolean\n",
    "        self.sports=sports"
   ]
  },
  {
   "cell_type": "code",
   "execution_count": 54,
   "id": "085070fe",
   "metadata": {},
   "outputs": [],
   "source": [
    "my_dog = Dog(breed= 'Huskie',name= 'Frankie',sports = False)"
   ]
  },
  {
   "cell_type": "code",
   "execution_count": 55,
   "id": "fca8362a",
   "metadata": {},
   "outputs": [
    {
     "data": {
      "text/plain": [
       "__main__.Dog"
      ]
     },
     "execution_count": 55,
     "metadata": {},
     "output_type": "execute_result"
    }
   ],
   "source": [
    "type(my_dog)"
   ]
  },
  {
   "cell_type": "code",
   "execution_count": 56,
   "id": "69c6d866",
   "metadata": {},
   "outputs": [
    {
     "data": {
      "text/plain": [
       "'Huskie'"
      ]
     },
     "execution_count": 56,
     "metadata": {},
     "output_type": "execute_result"
    }
   ],
   "source": [
    "my_dog.breed"
   ]
  },
  {
   "cell_type": "code",
   "execution_count": 57,
   "id": "8fd2bfd1",
   "metadata": {},
   "outputs": [
    {
     "data": {
      "text/plain": [
       "'Frankie'"
      ]
     },
     "execution_count": 57,
     "metadata": {},
     "output_type": "execute_result"
    }
   ],
   "source": [
    "my_dog.name"
   ]
  },
  {
   "cell_type": "code",
   "execution_count": 58,
   "id": "e6e64161",
   "metadata": {},
   "outputs": [
    {
     "data": {
      "text/plain": [
       "False"
      ]
     },
     "execution_count": 58,
     "metadata": {},
     "output_type": "execute_result"
    }
   ],
   "source": [
    "my_dog.sports"
   ]
  },
  {
   "cell_type": "code",
   "execution_count": 59,
   "id": "eb0fe23c",
   "metadata": {},
   "outputs": [],
   "source": [
    "my_dog = Dog(breed='Husike',name= 'Frankie',sports= 'No sports')"
   ]
  },
  {
   "cell_type": "code",
   "execution_count": 60,
   "id": "48337fb9",
   "metadata": {},
   "outputs": [
    {
     "data": {
      "text/plain": [
       "'No sports'"
      ]
     },
     "execution_count": 60,
     "metadata": {},
     "output_type": "execute_result"
    }
   ],
   "source": [
    "my_dog.sports"
   ]
  },
  {
   "cell_type": "code",
   "execution_count": 1,
   "id": "36330f31",
   "metadata": {},
   "outputs": [],
   "source": [
    "#class object attributes"
   ]
  },
  {
   "cell_type": "code",
   "execution_count": 8,
   "id": "b23d42f8",
   "metadata": {},
   "outputs": [],
   "source": [
    "class Dog():\n",
    "    #class object attributes\n",
    "    #same for any instance of a class\n",
    "    species='mammels'\n",
    "    def __init__(self,breed,name,spots):\n",
    "        #Attributes\n",
    "        #we take in the argument\n",
    "        #assign it to the self.attribute_name\n",
    "        self.breed=breed\n",
    "        self.name=name\n",
    "        #expecting booleans true/false\n",
    "        self.spots = spots "
   ]
  },
  {
   "cell_type": "code",
   "execution_count": 10,
   "id": "dfe283b7",
   "metadata": {},
   "outputs": [],
   "source": [
    "my_dog = Dog(breed='Lab',name='sam',spots=False)"
   ]
  },
  {
   "cell_type": "code",
   "execution_count": 11,
   "id": "6f5a854d",
   "metadata": {},
   "outputs": [
    {
     "data": {
      "text/plain": [
       "__main__.Dog"
      ]
     },
     "execution_count": 11,
     "metadata": {},
     "output_type": "execute_result"
    }
   ],
   "source": [
    "type(my_dog)"
   ]
  },
  {
   "cell_type": "code",
   "execution_count": 13,
   "id": "babd6817",
   "metadata": {},
   "outputs": [
    {
     "data": {
      "text/plain": [
       "'Lab'"
      ]
     },
     "execution_count": 13,
     "metadata": {},
     "output_type": "execute_result"
    }
   ],
   "source": [
    "my_dog.breed"
   ]
  },
  {
   "cell_type": "code",
   "execution_count": 14,
   "id": "9a38ce92",
   "metadata": {},
   "outputs": [
    {
     "data": {
      "text/plain": [
       "'sam'"
      ]
     },
     "execution_count": 14,
     "metadata": {},
     "output_type": "execute_result"
    }
   ],
   "source": [
    "my_dog.name"
   ]
  },
  {
   "cell_type": "code",
   "execution_count": 15,
   "id": "17ad2e7a",
   "metadata": {},
   "outputs": [
    {
     "data": {
      "text/plain": [
       "'mammels'"
      ]
     },
     "execution_count": 15,
     "metadata": {},
     "output_type": "execute_result"
    }
   ],
   "source": [
    "my_dog.species"
   ]
  },
  {
   "cell_type": "code",
   "execution_count": 16,
   "id": "ac7b226a",
   "metadata": {},
   "outputs": [
    {
     "data": {
      "text/plain": [
       "False"
      ]
     },
     "execution_count": 16,
     "metadata": {},
     "output_type": "execute_result"
    }
   ],
   "source": [
    "my_dog.spots"
   ]
  },
  {
   "cell_type": "code",
   "execution_count": 17,
   "id": "cc4f73cd",
   "metadata": {},
   "outputs": [],
   "source": [
    "class Dog():\n",
    "    #class object attributes\n",
    "    #same for any instance of a class\n",
    "    species='mammels'\n",
    "    def __init__(self,breed,name,spots):\n",
    "        #Attributes\n",
    "        #we take in the argument\n",
    "        #assign it to the self.attribute_name\n",
    "        self.breed=breed\n",
    "        self.name=name\n",
    "        #expecting booleans true/false\n",
    "        self.spots = spots \n",
    "        #operations=spots\n",
    "    def bark(self,number):\n",
    "        print('woof!my name is {} and number is{}'.format (self.name,number))"
   ]
  },
  {
   "cell_type": "code",
   "execution_count": 18,
   "id": "aacb6759",
   "metadata": {},
   "outputs": [],
   "source": [
    "my_dog= Dog('Lab','Huskie',False)"
   ]
  },
  {
   "cell_type": "code",
   "execution_count": 19,
   "id": "366167c2",
   "metadata": {},
   "outputs": [
    {
     "data": {
      "text/plain": [
       "__main__.Dog"
      ]
     },
     "execution_count": 19,
     "metadata": {},
     "output_type": "execute_result"
    }
   ],
   "source": [
    "type(my_dog)"
   ]
  },
  {
   "cell_type": "code",
   "execution_count": 20,
   "id": "fdee207f",
   "metadata": {},
   "outputs": [
    {
     "name": "stdout",
     "output_type": "stream",
     "text": [
      "woof!my name is Huskie and number is10\n"
     ]
    }
   ],
   "source": [
    "my_dog.bark(10)"
   ]
  },
  {
   "cell_type": "code",
   "execution_count": 49,
   "id": "327dd778",
   "metadata": {},
   "outputs": [],
   "source": [
    "class circle():\n",
    "    #class object attribute\n",
    "    pi=3.14\n",
    "    def __init__(self,radius=1):\n",
    "        self.radius=radius\n",
    "    #method\n",
    "    def get_circumference(self):\n",
    "        return 2*self.pi*self.radius"
   ]
  },
  {
   "cell_type": "code",
   "execution_count": 50,
   "id": "88d5f0ed",
   "metadata": {},
   "outputs": [],
   "source": [
    "my_circle=circle()"
   ]
  },
  {
   "cell_type": "code",
   "execution_count": 51,
   "id": "8b56c3c8",
   "metadata": {},
   "outputs": [
    {
     "data": {
      "text/plain": [
       "3.14"
      ]
     },
     "execution_count": 51,
     "metadata": {},
     "output_type": "execute_result"
    }
   ],
   "source": [
    "my_circle.pi"
   ]
  },
  {
   "cell_type": "code",
   "execution_count": 52,
   "id": "0412f3c7",
   "metadata": {},
   "outputs": [
    {
     "data": {
      "text/plain": [
       "1"
      ]
     },
     "execution_count": 52,
     "metadata": {},
     "output_type": "execute_result"
    }
   ],
   "source": [
    "my_circle.radius"
   ]
  },
  {
   "cell_type": "code",
   "execution_count": 53,
   "id": "07d87b6b",
   "metadata": {},
   "outputs": [
    {
     "data": {
      "text/plain": [
       "6.28"
      ]
     },
     "execution_count": 53,
     "metadata": {},
     "output_type": "execute_result"
    }
   ],
   "source": [
    "my_circle.get_circumference ()"
   ]
  },
  {
   "cell_type": "code",
   "execution_count": 7,
   "id": "5e698a2c",
   "metadata": {},
   "outputs": [],
   "source": [
    "class Circle():\n",
    "    #class object attribute\n",
    "    pi=3.14\n",
    "    def __init__(self,radius=1):\n",
    "        self.radius=radius\n",
    "        self.area = Circle.pi*radius*radius\n",
    "    #method\n",
    "    def get_circumference(self):\n",
    "        return 2*Circle.pi*self.radius"
   ]
  },
  {
   "cell_type": "code",
   "execution_count": 8,
   "id": "666d499a",
   "metadata": {},
   "outputs": [],
   "source": [
    "my_circle= Circle(30)"
   ]
  },
  {
   "cell_type": "code",
   "execution_count": 9,
   "id": "d5dcc2f0",
   "metadata": {},
   "outputs": [
    {
     "data": {
      "text/plain": [
       "2826.0"
      ]
     },
     "execution_count": 9,
     "metadata": {},
     "output_type": "execute_result"
    }
   ],
   "source": [
    "my_circle.area"
   ]
  },
  {
   "cell_type": "code",
   "execution_count": 10,
   "id": "d306e4fe",
   "metadata": {},
   "outputs": [
    {
     "data": {
      "text/plain": [
       "188.4"
      ]
     },
     "execution_count": 10,
     "metadata": {},
     "output_type": "execute_result"
    }
   ],
   "source": [
    "my_circle.get_circumference()"
   ]
  },
  {
   "cell_type": "code",
   "execution_count": null,
   "id": "289a6e54",
   "metadata": {},
   "outputs": [],
   "source": []
  }
 ],
 "metadata": {
  "kernelspec": {
   "display_name": "Python 3 (ipykernel)",
   "language": "python",
   "name": "python3"
  },
  "language_info": {
   "codemirror_mode": {
    "name": "ipython",
    "version": 3
   },
   "file_extension": ".py",
   "mimetype": "text/x-python",
   "name": "python",
   "nbconvert_exporter": "python",
   "pygments_lexer": "ipython3",
   "version": "3.10.9"
  }
 },
 "nbformat": 4,
 "nbformat_minor": 5
}
