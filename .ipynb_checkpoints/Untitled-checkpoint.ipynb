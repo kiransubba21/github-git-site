{
 "cells": [
  {
   "cell_type": "code",
   "execution_count": 1,
   "id": "1a43b8e0",
   "metadata": {},
   "outputs": [],
   "source": [
    "x='hello world'"
   ]
  },
  {
   "cell_type": "code",
   "execution_count": 2,
   "id": "40b98ad7",
   "metadata": {},
   "outputs": [
    {
     "data": {
      "text/plain": [
       "'hello worldit is beautiful outside'"
      ]
     },
     "execution_count": 2,
     "metadata": {},
     "output_type": "execute_result"
    }
   ],
   "source": [
    "x+'it is beautiful outside'"
   ]
  },
  {
   "cell_type": "code",
   "execution_count": 11,
   "id": "067586f2",
   "metadata": {},
   "outputs": [],
   "source": [
    "letter='z'"
   ]
  },
  {
   "cell_type": "code",
   "execution_count": 10,
   "id": "72c3af81",
   "metadata": {},
   "outputs": [
    {
     "data": {
      "text/plain": [
       "'z'"
      ]
     },
     "execution_count": 10,
     "metadata": {},
     "output_type": "execute_result"
    }
   ],
   "source": [
    "letter"
   ]
  },
  {
   "cell_type": "code",
   "execution_count": 5,
   "id": "fe2ef40d",
   "metadata": {},
   "outputs": [
    {
     "data": {
      "text/plain": [
       "'zzzzzzzzzz'"
      ]
     },
     "execution_count": 5,
     "metadata": {},
     "output_type": "execute_result"
    }
   ],
   "source": [
    "letter*10"
   ]
  },
  {
   "cell_type": "code",
   "execution_count": 6,
   "id": "efdc98fd",
   "metadata": {},
   "outputs": [],
   "source": [
    "a = '40'+ '50'"
   ]
  },
  {
   "cell_type": "code",
   "execution_count": 7,
   "id": "02da5111",
   "metadata": {},
   "outputs": [
    {
     "data": {
      "text/plain": [
       "str"
      ]
     },
     "execution_count": 7,
     "metadata": {},
     "output_type": "execute_result"
    }
   ],
   "source": [
    "type(a)"
   ]
  },
  {
   "cell_type": "code",
   "execution_count": 15,
   "id": "cd89f160",
   "metadata": {},
   "outputs": [],
   "source": [
    "  x='helloworld'"
   ]
  },
  {
   "cell_type": "code",
   "execution_count": 17,
   "id": "5e0def20",
   "metadata": {},
   "outputs": [
    {
     "data": {
      "text/plain": [
       "'HELLOWORLD'"
      ]
     },
     "execution_count": 17,
     "metadata": {},
     "output_type": "execute_result"
    }
   ],
   "source": [
    "x.upper()"
   ]
  },
  {
   "cell_type": "code",
   "execution_count": 18,
   "id": "1df5ad7f",
   "metadata": {},
   "outputs": [
    {
     "data": {
      "text/plain": [
       "['hell', 'w', 'rld']"
      ]
     },
     "execution_count": 18,
     "metadata": {},
     "output_type": "execute_result"
    }
   ],
   "source": [
    "x.split('o')"
   ]
  },
  {
   "cell_type": "code",
   "execution_count": 23,
   "id": "1db3cf85",
   "metadata": {},
   "outputs": [
    {
     "name": "stdout",
     "output_type": "stream",
     "text": [
      "hello my name is kiran\n"
     ]
    }
   ],
   "source": [
    "my_name ='kiran'\n",
    "print('hello my name is '+my_name)"
   ]
  },
  {
   "cell_type": "code",
   "execution_count": 24,
   "id": "ba7ce97f",
   "metadata": {},
   "outputs": [],
   "source": [
    "#'string here{}{}{}'.format(something1,something2,something3,)"
   ]
  },
  {
   "cell_type": "code",
   "execution_count": 25,
   "id": "d48810fb",
   "metadata": {},
   "outputs": [
    {
     "name": "stdout",
     "output_type": "stream",
     "text": [
      "i am a student of medhavi skills university\n"
     ]
    }
   ],
   "source": [
    "print('i am a student of {}'.format ('medhavi skills university'))"
   ]
  },
  {
   "cell_type": "code",
   "execution_count": 30,
   "id": "22013e7a",
   "metadata": {},
   "outputs": [
    {
     "name": "stdout",
     "output_type": "stream",
     "text": [
      "the quick brown fox\n"
     ]
    }
   ],
   "source": [
    "print('the {q} {b} {f}'.format(b='brown',f='fox',q='quick'))"
   ]
  },
  {
   "cell_type": "code",
   "execution_count": null,
   "id": "20869419",
   "metadata": {},
   "outputs": [],
   "source": []
  }
 ],
 "metadata": {
  "kernelspec": {
   "display_name": "Python 3 (ipykernel)",
   "language": "python",
   "name": "python3"
  },
  "language_info": {
   "codemirror_mode": {
    "name": "ipython",
    "version": 3
   },
   "file_extension": ".py",
   "mimetype": "text/x-python",
   "name": "python",
   "nbconvert_exporter": "python",
   "pygments_lexer": "ipython3",
   "version": "3.10.9"
  }
 },
 "nbformat": 4,
 "nbformat_minor": 5
}
