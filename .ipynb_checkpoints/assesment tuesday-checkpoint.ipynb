{
 "cells": [
  {
   "cell_type": "markdown",
   "id": "bd976300",
   "metadata": {},
   "source": [
    " Write a Python function called convert_temperature(temp, from_scale, to_scale) that takes a temperature, a scale to convert from, and a scale to convert to as input. The scales can be \"Celsius\", \"Fahrenheit\", or \"Kelvin\". The function should convert the temperature to the requested scale.\n",
    "Example Inputs and Outputs:\n",
    "•\tconvert_temperature(0, 'Celsius', 'Fahrenheit') should return 32\n",
    "•\tconvert_temperature(32, 'Fahrenheit', 'Celsius') should return 0\n",
    "•\tconvert_temperature(0, 'Celsius', 'Kelvin') should return 273.15\n",
    "\n"
   ]
  },
  {
   "cell_type": "code",
   "execution_count": 8,
   "id": "e74a7188",
   "metadata": {},
   "outputs": [
    {
     "name": "stdout",
     "output_type": "stream",
     "text": [
      "32.0\n",
      "0.0\n",
      "273.15\n"
     ]
    }
   ],
   "source": [
    "import math\n",
    "\n",
    "def convert_temperature(temperature, from_unit, to_unit):\n",
    "    if from_unit == 'Celsius' and to_unit == 'Fahrenheit':\n",
    "        return (temperature * 9/5) + 32\n",
    "    elif from_unit == 'Fahrenheit' and to_unit == 'Celsius':\n",
    "        return (temperature - 32) * 5/9\n",
    "    elif from_unit == 'Celsius' and to_unit == 'Kelvin':\n",
    "        return temperature + 273.15\n",
    "    else:\n",
    "        return None\n",
    "print(convert_temperature(0, 'Celsius', 'Fahrenheit'))  \n",
    "print(convert_temperature(32, 'Fahrenheit', 'Celsius'))  \n",
    "print(convert_temperature(0, 'Celsius', 'Kelvin')) \n",
    "\n"
   ]
  },
  {
   "cell_type": "markdown",
   "id": "81fa497c",
   "metadata": {},
   "source": [
    "Assessment 2: Create python program using modules , collections, OS, date-time, math, and random operations also note the usecase of each modules"
   ]
  },
  {
   "cell_type": "code",
   "execution_count": 24,
   "id": "9b92755f",
   "metadata": {},
   "outputs": [
    {
     "name": "stdout",
     "output_type": "stream",
     "text": [
      "kiran\n",
      "20\n",
      "15\n",
      "C:\\Users\\hp\\Desktop\\python kiran\n",
      "2023-07-04 15:37:08.011261\n",
      "5.0\n",
      "62\n"
     ]
    }
   ],
   "source": [
    "# Use case of collections: \n",
    "import collections\n",
    "students=collections.namedtuple('student',['name','age','marks'])\n",
    "s1=students(\"kiran\",20,15)\n",
    "print(s1.name)\n",
    "print(s1.age)\n",
    "print(s1.marks)\n",
    "\n",
    "# Use case of os: \n",
    "import os\n",
    "print(os.getcwd())\n",
    "\n",
    "# Use case of datetime: \n",
    "import datetime\n",
    "today=datetime.datetime.now()\n",
    "print (today)\n",
    "\n",
    "# Use case of math:\n",
    "import math\n",
    "print(math.sqrt(25))\n",
    "\n",
    "# Use case of random:\n",
    "import random\n",
    "print(random.randint(1,100))"
   ]
  },
  {
   "cell_type": "markdown",
   "id": "ae1397c9",
   "metadata": {},
   "source": [
    "Assessment 3: Program to perform Linear Search.\n",
    "Linear search is a simple search algorithm that checks every element in the list sequentially until it finds the target value.\n",
    "\n",
    "\n"
   ]
  },
  {
   "cell_type": "code",
   "execution_count": 2,
   "id": "d71fb795",
   "metadata": {},
   "outputs": [
    {
     "name": "stdout",
     "output_type": "stream",
     "text": [
      "search here5\n",
      "Found at 5\n"
     ]
    }
   ],
   "source": [
    "pos = -1\n",
    "n=int(input(\"search here\"))\n",
    "list= [1,2,3,4,5,6,7,8,9]\n",
    "def search(list,n):\n",
    "    i=0\n",
    "    while i<len(list):\n",
    "        if list[i]==n:\n",
    "            globals()['pos']=i\n",
    "            return True\n",
    "        i=i+1\n",
    "    return False\n",
    "if search(list,n):\n",
    "    print(\"Found at\",pos+1)\n",
    "else:\n",
    "    print(\"not found\")"
   ]
  },
  {
   "cell_type": "code",
   "execution_count": null,
   "id": "4a8f23a0",
   "metadata": {},
   "outputs": [],
   "source": []
  }
 ],
 "metadata": {
  "kernelspec": {
   "display_name": "Python 3 (ipykernel)",
   "language": "python",
   "name": "python3"
  },
  "language_info": {
   "codemirror_mode": {
    "name": "ipython",
    "version": 3
   },
   "file_extension": ".py",
   "mimetype": "text/x-python",
   "name": "python",
   "nbconvert_exporter": "python",
   "pygments_lexer": "ipython3",
   "version": "3.10.9"
  }
 },
 "nbformat": 4,
 "nbformat_minor": 5
}
