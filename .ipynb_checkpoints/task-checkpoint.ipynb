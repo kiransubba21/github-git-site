{
 "cells": [
  {
   "cell_type": "code",
   "execution_count": 4,
   "id": "de9cf173",
   "metadata": {},
   "outputs": [],
   "source": [
    "def myfunc():\n",
    "    print('Hello world')"
   ]
  },
  {
   "cell_type": "code",
   "execution_count": 5,
   "id": "86394e42",
   "metadata": {},
   "outputs": [
    {
     "name": "stdout",
     "output_type": "stream",
     "text": [
      "Hello world\n"
     ]
    }
   ],
   "source": [
    "myfunc()"
   ]
  },
  {
   "cell_type": "code",
   "execution_count": 3,
   "id": "b05b7387",
   "metadata": {},
   "outputs": [],
   "source": [
    "def myfunc():\n",
    "    print('My name is {}'.format(name))"
   ]
  },
  {
   "cell_type": "code",
   "execution_count": 5,
   "id": "07e65d97",
   "metadata": {},
   "outputs": [
    {
     "ename": "TypeError",
     "evalue": "myfunc() takes 0 positional arguments but 1 was given",
     "output_type": "error",
     "traceback": [
      "\u001b[1;31m---------------------------------------------------------------------------\u001b[0m",
      "\u001b[1;31mTypeError\u001b[0m                                 Traceback (most recent call last)",
      "Cell \u001b[1;32mIn[5], line 1\u001b[0m\n\u001b[1;32m----> 1\u001b[0m \u001b[43mmyfunc\u001b[49m\u001b[43m(\u001b[49m\u001b[38;5;124;43m'\u001b[39;49m\u001b[38;5;124;43mABC\u001b[39;49m\u001b[38;5;124;43m'\u001b[39;49m\u001b[43m)\u001b[49m\n",
      "\u001b[1;31mTypeError\u001b[0m: myfunc() takes 0 positional arguments but 1 was given"
     ]
    }
   ],
   "source": [
    "myfunc('ABC')"
   ]
  },
  {
   "cell_type": "code",
   "execution_count": 17,
   "id": "5fc4f671",
   "metadata": {},
   "outputs": [],
   "source": [
    "def myfunc(a):\n",
    "    if a== True:\n",
    "       return 'inside' \n",
    "    elif a== False:\n",
    "        return 'outside'"
   ]
  },
  {
   "cell_type": "code",
   "execution_count": 18,
   "id": "d8e7b33c",
   "metadata": {},
   "outputs": [
    {
     "data": {
      "text/plain": [
       "'outside'"
      ]
     },
     "execution_count": 18,
     "metadata": {},
     "output_type": "execute_result"
    }
   ],
   "source": [
    "myfunc(False)"
   ]
  },
  {
   "cell_type": "code",
   "execution_count": 27,
   "id": "2154a00e",
   "metadata": {},
   "outputs": [],
   "source": [
    "def myfunc(a,b,c):\n",
    "   if c== True:\n",
    "       return a\n",
    "   else:\n",
    "      return b"
   ]
  },
  {
   "cell_type": "code",
   "execution_count": 28,
   "id": "0902b06f",
   "metadata": {},
   "outputs": [
    {
     "data": {
      "text/plain": [
       "'Goodbye'"
      ]
     },
     "execution_count": 28,
     "metadata": {},
     "output_type": "execute_result"
    }
   ],
   "source": [
    "myfunc('Hello','Goodbye',False)"
   ]
  },
  {
   "cell_type": "code",
   "execution_count": 29,
   "id": "5a5e1cb8",
   "metadata": {},
   "outputs": [],
   "source": [
    "def myfunc(a,b):\n",
    "    return a*b"
   ]
  },
  {
   "cell_type": "code",
   "execution_count": 30,
   "id": "ff56336b",
   "metadata": {},
   "outputs": [
    {
     "data": {
      "text/plain": [
       "60"
      ]
     },
     "execution_count": 30,
     "metadata": {},
     "output_type": "execute_result"
    }
   ],
   "source": [
    "myfunc(5,12)"
   ]
  },
  {
   "cell_type": "code",
   "execution_count": 31,
   "id": "89e7a703",
   "metadata": {},
   "outputs": [],
   "source": [
    "def is_evenly_divisable_by_3(n):\n",
    "    if n%3 ==0:\n",
    "       return True\n",
    "    else:\n",
    "        return False"
   ]
  },
  {
   "cell_type": "code",
   "execution_count": 32,
   "id": "2b8ff5a9",
   "metadata": {},
   "outputs": [
    {
     "data": {
      "text/plain": [
       "True"
      ]
     },
     "execution_count": 32,
     "metadata": {},
     "output_type": "execute_result"
    }
   ],
   "source": [
    "is_evenly_divisable_by_3(15)"
   ]
  },
  {
   "cell_type": "code",
   "execution_count": 33,
   "id": "25010526",
   "metadata": {},
   "outputs": [],
   "source": [
    "def is_less(c,d):\n",
    "    if c<d:\n",
    "       return True\n",
    "    else:\n",
    "        return False"
   ]
  },
  {
   "cell_type": "code",
   "execution_count": null,
   "id": "98de54b4",
   "metadata": {},
   "outputs": [],
   "source": [
    "is_less()"
   ]
  }
 ],
 "metadata": {
  "kernelspec": {
   "display_name": "Python 3 (ipykernel)",
   "language": "python",
   "name": "python3"
  },
  "language_info": {
   "codemirror_mode": {
    "name": "ipython",
    "version": 3
   },
   "file_extension": ".py",
   "mimetype": "text/x-python",
   "name": "python",
   "nbconvert_exporter": "python",
   "pygments_lexer": "ipython3",
   "version": "3.10.9"
  }
 },
 "nbformat": 4,
 "nbformat_minor": 5
}
