{
 "cells": [
  {
   "cell_type": "code",
   "execution_count": null,
   "id": "0a285711",
   "metadata": {},
   "outputs": [],
   "source": [
    "print(1,2,3)"
   ]
  },
  {
   "cell_type": "code",
   "execution_count": null,
   "id": "7f2b42b3",
   "metadata": {},
   "outputs": [],
   "source": [
    "print([1,2,3])\n",
    "print([4,5,6])\n",
    "print([7,8,9])"
   ]
  },
  {
   "cell_type": "code",
   "execution_count": null,
   "id": "841998e4",
   "metadata": {},
   "outputs": [],
   "source": [
    "def display(row1,row2,row3):\n",
    "    print(row1)\n",
    "    print(row2)\n",
    "    print(row3)"
   ]
  },
  {
   "cell_type": "code",
   "execution_count": null,
   "id": "92aae54e",
   "metadata": {},
   "outputs": [],
   "source": [
    "example_row=[1,2,3]"
   ]
  },
  {
   "cell_type": "code",
   "execution_count": null,
   "id": "f36ae90e",
   "metadata": {},
   "outputs": [],
   "source": [
    "display(example_row,example_row,example_row)"
   ]
  },
  {
   "cell_type": "code",
   "execution_count": null,
   "id": "98f3bda2",
   "metadata": {},
   "outputs": [],
   "source": [
    "def display(row1,row2,row3):\n",
    "    print(row1)\n",
    "    print(row2)\n",
    "    print(row3)"
   ]
  },
  {
   "cell_type": "code",
   "execution_count": null,
   "id": "81d3f99c",
   "metadata": {},
   "outputs": [],
   "source": [
    "row1=['','','']\n",
    "row2=['','','']\n",
    "row3=['','','']"
   ]
  },
  {
   "cell_type": "code",
   "execution_count": null,
   "id": "4c4daeac",
   "metadata": {},
   "outputs": [],
   "source": [
    "display(row1,row2,row3)"
   ]
  },
  {
   "cell_type": "code",
   "execution_count": null,
   "id": "065482d5",
   "metadata": {},
   "outputs": [],
   "source": [
    "row2[1]='x' \n"
   ]
  },
  {
   "cell_type": "code",
   "execution_count": null,
   "id": "b87b0bc0",
   "metadata": {},
   "outputs": [],
   "source": [
    "display(row1,row2,row3)"
   ]
  },
  {
   "cell_type": "code",
   "execution_count": null,
   "id": "fdca29f4",
   "metadata": {},
   "outputs": [],
   "source": [
    "input('please enter a value')"
   ]
  },
  {
   "cell_type": "code",
   "execution_count": null,
   "id": "fb769412",
   "metadata": {},
   "outputs": [],
   "source": [
    "result=input('please enter a value')"
   ]
  },
  {
   "cell_type": "code",
   "execution_count": null,
   "id": "3424bef6",
   "metadata": {},
   "outputs": [],
   "source": [
    "result"
   ]
  },
  {
   "cell_type": "code",
   "execution_count": null,
   "id": "ce8efaf5",
   "metadata": {},
   "outputs": [],
   "source": [
    "type(result)"
   ]
  },
  {
   "cell_type": "code",
   "execution_count": null,
   "id": "e0bebec7",
   "metadata": {},
   "outputs": [],
   "source": [
    "result_int=(result)"
   ]
  },
  {
   "cell_type": "code",
   "execution_count": null,
   "id": "70b8bb41",
   "metadata": {},
   "outputs": [],
   "source": [
    "result_int"
   ]
  },
  {
   "cell_type": "code",
   "execution_count": null,
   "id": "75391393",
   "metadata": {},
   "outputs": [],
   "source": [
    "type(result)"
   ]
  },
  {
   "cell_type": "code",
   "execution_count": null,
   "id": "5085dac8",
   "metadata": {},
   "outputs": [],
   "source": [
    "result_int=int(result)"
   ]
  },
  {
   "cell_type": "code",
   "execution_count": null,
   "id": "5f8a69ee",
   "metadata": {},
   "outputs": [],
   "source": [
    "result_int"
   ]
  },
  {
   "cell_type": "code",
   "execution_count": null,
   "id": "4e84a18f",
   "metadata": {},
   "outputs": [],
   "source": [
    "type(result_int)"
   ]
  },
  {
   "cell_type": "code",
   "execution_count": null,
   "id": "2f0bf736",
   "metadata": {},
   "outputs": [],
   "source": [
    "result_int"
   ]
  },
  {
   "cell_type": "code",
   "execution_count": null,
   "id": "7fbc4bba",
   "metadata": {},
   "outputs": [],
   "source": [
    "type(result_int)"
   ]
  },
  {
   "cell_type": "code",
   "execution_count": null,
   "id": "6281d925",
   "metadata": {},
   "outputs": [],
   "source": [
    "type(2.13)"
   ]
  },
  {
   "cell_type": "code",
   "execution_count": null,
   "id": "1b0dfde4",
   "metadata": {},
   "outputs": [],
   "source": [
    "float('2.13')"
   ]
  },
  {
   "cell_type": "code",
   "execution_count": null,
   "id": "166b5ec3",
   "metadata": {},
   "outputs": [],
   "source": [
    "position_index=int(input('choose an index position'))"
   ]
  },
  {
   "cell_type": "code",
   "execution_count": null,
   "id": "e432233d",
   "metadata": {},
   "outputs": [],
   "source": [
    "row1"
   ]
  },
  {
   "cell_type": "code",
   "execution_count": null,
   "id": "04b1c30b",
   "metadata": {},
   "outputs": [],
   "source": [
    "type(position_index)"
   ]
  },
  {
   "cell_type": "code",
   "execution_count": null,
   "id": "00cce6c8",
   "metadata": {},
   "outputs": [],
   "source": [
    "result=input('enter a number')"
   ]
  },
  {
   "cell_type": "code",
   "execution_count": null,
   "id": "a7069988",
   "metadata": {},
   "outputs": [],
   "source": [
    "2+2"
   ]
  },
  {
   "cell_type": "code",
   "execution_count": null,
   "id": "6903e30e",
   "metadata": {},
   "outputs": [],
   "source": [
    "def user_choice():\n",
    "    choice = input('enter a number 0-10:')\n",
    "    return int(choice)"
   ]
  },
  {
   "cell_type": "code",
   "execution_count": null,
   "id": "c7b4de38",
   "metadata": {},
   "outputs": [],
   "source": [
    "user_choice()"
   ]
  },
  {
   "cell_type": "code",
   "execution_count": null,
   "id": "646b0ac2",
   "metadata": {},
   "outputs": [],
   "source": [
    "some_value='100'"
   ]
  },
  {
   "cell_type": "code",
   "execution_count": null,
   "id": "52299a87",
   "metadata": {},
   "outputs": [],
   "source": [
    "some_value.isdigit()"
   ]
  },
  {
   "cell_type": "code",
   "execution_count": null,
   "id": "063423cb",
   "metadata": {},
   "outputs": [],
   "source": [
    "type(some_value)"
   ]
  },
  {
   "cell_type": "code",
   "execution_count": null,
   "id": "207e95fc",
   "metadata": {},
   "outputs": [],
   "source": [
    "int(some_value)"
   ]
  },
  {
   "cell_type": "code",
   "execution_count": null,
   "id": "2bece358",
   "metadata": {},
   "outputs": [],
   "source": [
    "def user_choice():\n",
    "    choice='wrong'\n",
    "    while choice.isdigit()==False:\n",
    "        choice = input('please enter a number 0-10:')\n",
    "    return int(choice)"
   ]
  },
  {
   "cell_type": "code",
   "execution_count": null,
   "id": "b789e9fc",
   "metadata": {},
   "outputs": [],
   "source": [
    "user_choice()"
   ]
  },
  {
   "cell_type": "code",
   "execution_count": null,
   "id": "d16c60d6",
   "metadata": {},
   "outputs": [],
   "source": [
    "def user_choice():\n",
    "    choice='wrong'\n",
    "    while choice.isdigit()==False:\n",
    "        choice = input('please enter a number 0-10:')\n",
    "        if choice.isdigit()==False:\n",
    "            print('sorry that is not a digit')\n",
    "    return int(choice)"
   ]
  },
  {
   "cell_type": "code",
   "execution_count": null,
   "id": "131c90aa",
   "metadata": {},
   "outputs": [],
   "source": [
    "user_choice()"
   ]
  },
  {
   "cell_type": "code",
   "execution_count": null,
   "id": "50c64bba",
   "metadata": {},
   "outputs": [],
   "source": [
    "result='wrong value'"
   ]
  },
  {
   "cell_type": "code",
   "execution_count": null,
   "id": "55d9fde4",
   "metadata": {},
   "outputs": [],
   "source": [
    "acceptable_value=[0,1,2]"
   ]
  },
  {
   "cell_type": "code",
   "execution_count": null,
   "id": "482b5e27",
   "metadata": {},
   "outputs": [],
   "source": [
    "result in acceptable_value"
   ]
  },
  {
   "cell_type": "code",
   "execution_count": null,
   "id": "b715dd25",
   "metadata": {},
   "outputs": [],
   "source": [
    "result not in acceptable_value"
   ]
  },
  {
   "cell_type": "code",
   "execution_count": null,
   "id": "8c34f35e",
   "metadata": {},
   "outputs": [],
   "source": [
    "def user_chpoice():\n",
    "    #variables\n",
    "    #initial\n",
    "    choice='wrong'\n",
    "    acceptable_range=range(0,10)\n",
    "    within_range=False\n",
    "    #two conditions to check\n",
    "    #digit or within range==False\n",
    "    while choice.isdigit()==False or within_range==False:\n",
    "        choice=input('please enter a number 0-10')\n",
    "        #digit check\n",
    "        if choice.isdigit()==False:\n",
    "           print('sorry that is not a digit')\n",
    "        #range check\n",
    "        if choice.isdigit9==True:\n",
    "            if int(choice)in acceptable_range:\n",
    "                within_range=True\n",
    "            else:\n",
    "                print('sorry you are out of acceptable range 0-10')\n",
    "                within_range=False\n",
    "    return int(choice)"
   ]
  },
  {
   "cell_type": "code",
   "execution_count": null,
   "id": "f2bcce63",
   "metadata": {},
   "outputs": [],
   "source": [
    "user_choice()"
   ]
  },
  {
   "cell_type": "code",
   "execution_count": null,
   "id": "44d8c962",
   "metadata": {},
   "outputs": [],
   "source": [
    "game_list=[0,1,2]\n",
    "def display_game(game_list):\n",
    "    print('Here is the current list')\n",
    "    print(game_list)"
   ]
  },
  {
   "cell_type": "code",
   "execution_count": 80,
   "id": "2a921279",
   "metadata": {},
   "outputs": [
    {
     "name": "stdout",
     "output_type": "stream",
     "text": [
      "Here is the current list\n",
      "[0, 1, 2]\n"
     ]
    }
   ],
   "source": [
    " display_game(game_list)"
   ]
  },
  {
   "cell_type": "code",
   "execution_count": 83,
   "id": "2a3c85ec",
   "metadata": {},
   "outputs": [],
   "source": [
    "def position_choice():\n",
    "    choice='wrong'\n",
    "    while choice not in ['0','1','2']:\n",
    "        choice = input('pick a number 0,1,2:')\n",
    "        if choice not in ['0','1','2']:\n",
    "            print('sorry invalid choice')\n",
    "    return int(choice)"
   ]
  },
  {
   "cell_type": "code",
   "execution_count": 84,
   "id": "23ac4429",
   "metadata": {},
   "outputs": [
    {
     "name": "stdout",
     "output_type": "stream",
     "text": [
      "pick a number 0,1,2:10\n",
      "sorry invalid choice\n",
      "pick a number 0,1,2:two\n",
      "sorry invalid choice\n",
      "pick a number 0,1,2:1\n"
     ]
    },
    {
     "data": {
      "text/plain": [
       "1"
      ]
     },
     "execution_count": 84,
     "metadata": {},
     "output_type": "execute_result"
    }
   ],
   "source": [
    "position_choice()"
   ]
  },
  {
   "cell_type": "code",
   "execution_count": null,
   "id": "bb73543c",
   "metadata": {},
   "outputs": [],
   "source": [
    "def replacement_choice(game_list,position):\n",
    "    user_replacement = input('Enter a string to place at position')\n",
    "    game_list[position]=user_replacement\n",
    "    return game_list"
   ]
  },
  {
   "cell_type": "code",
   "execution_count": null,
   "id": "72881228",
   "metadata": {},
   "outputs": [],
   "source": [
    "replacement_choice(game-list,1)"
   ]
  },
  {
   "cell_type": "code",
   "execution_count": null,
   "id": "1b01c0e6",
   "metadata": {},
   "outputs": [],
   "source": [
    "def gameon_choice():\n",
    "    choice='wrong'\n",
    "    while choice not in ['Y','N']:\n",
    "        choice=input('keep playing?:(Y or N)')\n",
    "        if choice not in['Y','N']:\n",
    "            print('sorry i do not understand !please choose y or n')\n",
    "    if choice=='Y'\n",
    "       return True\n",
    "    else:\n",
    "        return False"
   ]
  },
  {
   "cell_type": "code",
   "execution_count": null,
   "id": "b1e789b7",
   "metadata": {},
   "outputs": [],
   "source": [
    "gameon_choice()"
   ]
  },
  {
   "cell_type": "code",
   "execution_count": null,
   "id": "b425852a",
   "metadata": {},
   "outputs": [],
   "source": []
  }
 ],
 "metadata": {
  "kernelspec": {
   "display_name": "Python 3 (ipykernel)",
   "language": "python",
   "name": "python3"
  },
  "language_info": {
   "codemirror_mode": {
    "name": "ipython",
    "version": 3
   },
   "file_extension": ".py",
   "mimetype": "text/x-python",
   "name": "python",
   "nbconvert_exporter": "python",
   "pygments_lexer": "ipython3",
   "version": "3.10.9"
  }
 },
 "nbformat": 4,
 "nbformat_minor": 5
}
