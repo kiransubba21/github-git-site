{
 "cells": [
  {
   "cell_type": "code",
   "execution_count": 1,
   "id": "16948efe",
   "metadata": {},
   "outputs": [
    {
     "name": "stdout",
     "output_type": "stream",
     "text": [
      "The decimal value of 344 is:\n",
      "0b101011000 in binary.\n",
      "0o530 in octal.\n",
      "0x158 in hexadecimal.\n"
     ]
    }
   ],
   "source": [
    "#print program to convert decimal into other number systems\n",
    "dec=344\n",
    "print(\"The decimal value of\",dec,\"is:\")\n",
    "print(bin(dec),\"in binary.\")\n",
    "print(oct(dec),\"in octal.\")\n",
    "print(hex(dec),\"in hexadecimal.\")"
   ]
  },
  {
   "cell_type": "code",
   "execution_count": 2,
   "id": "ee7fd8e8",
   "metadata": {},
   "outputs": [
    {
     "name": "stdout",
     "output_type": "stream",
     "text": [
      "The addition of two matrices:\n",
      "[17, 15, 4]\n",
      "[10, 12, 9]\n",
      "[11, 13, 18]\n",
      "\n",
      " The multiplication of two matrices:\n",
      "[114, 160, 60]\n",
      "[74, 97, 73]\n",
      "[119, 157, 112]\n"
     ]
    }
   ],
   "source": [
    "#python program to multiply and add two matrics\n",
    "x=[[12,7,3],\n",
    "  [4,5,6],\n",
    "  [7,8,9]]\n",
    "    \n",
    "y=[[5,8,1],\n",
    "  [6,7,3],\n",
    "  [4,5,9]]\n",
    "result_add=[[0,0,0],\n",
    "           [0,0,0],\n",
    "            [0,0,0]]\n",
    "\n",
    "result_mul=[[0,0,0],\n",
    "            [0,0,0],\n",
    "            [0,0,0]]\n",
    "#Adding matrices\n",
    "for i in range(len(x)):\n",
    "    for j in range(len(x[0])):\n",
    "        result_add[i][j]=x[i][j]+y[i][j]\n",
    "    \n",
    "#Multiplying matrices\n",
    "for i in range(len(x)):\n",
    "    for j in range(len(x[0])):\n",
    "        for k in range(len(y)):\n",
    "            result_mul[i][j]+=x[i][k]*y[k][j]\n",
    "print(\"The addition of two matrices:\")\n",
    "for r in result_add:\n",
    "    print(r)\n",
    "    \n",
    "print(\"\\n The multiplication of two matrices:\")\n",
    "for r in result_mul:\n",
    "    print(r)\n",
    "\n",
    "    \n",
    "\n",
    "\n",
    "\n",
    "    \n"
   ]
  },
  {
   "cell_type": "code",
   "execution_count": 3,
   "id": "93dadf63",
   "metadata": {},
   "outputs": [
    {
     "name": "stdout",
     "output_type": "stream",
     "text": [
      "The sortedwords are:\n",
      "an\n",
      "cased\n",
      "example\n",
      "hello\n",
      "is\n",
      "letters\n",
      "this\n",
      "with\n"
     ]
    }
   ],
   "source": [
    "#python program to sort words in Alphabetic\n",
    "my_str=\"Hello this is an example with cased letters\"\n",
    "words=[word.lower()for word in my_str.split()]\n",
    "words.sort()\n",
    "print(\"The sortedwords are:\")\n",
    "for word in words:\n",
    "    print(word)"
   ]
  },
  {
   "cell_type": "code",
   "execution_count": 4,
   "id": "3393f6f2",
   "metadata": {},
   "outputs": [
    {
     "ename": "SyntaxError",
     "evalue": "'(' was never closed (2081251317.py, line 23)",
     "output_type": "error",
     "traceback": [
      "\u001b[1;36m  Cell \u001b[1;32mIn[4], line 23\u001b[1;36m\u001b[0m\n\u001b[1;33m    my_turtle.right(90\u001b[0m\n\u001b[1;37m                   ^\u001b[0m\n\u001b[1;31mSyntaxError\u001b[0m\u001b[1;31m:\u001b[0m '(' was never closed\n"
     ]
    }
   ],
   "source": [
    "\n",
    "#python program to implement geometric figures using turtle\n",
    "#create a new turtle screen and set its background color\n",
    "wn = turtle.screen()\n",
    "wn.bgcolor(\"light green\")\n",
    "\n",
    "#create a new turtle to draw shapes \n",
    "my_turtle= turtle.Turtle()\n",
    "\n",
    "#Draw a square\n",
    "for i in range(4):\n",
    "    my_turtle.forward(100)\n",
    "    my_turtle.right(90)\n",
    "    \n",
    "\n",
    "# Draw a rectangle\n",
    "my_turtle.penup()\n",
    "my_turtle.goto(-150,-200)\n",
    "my_turtle.pendown()\n",
    "for i in range(2):\n",
    "    my_turtle.forward(200)\n",
    "    my_turtle.right(90)\n",
    "    my_turtle.forward(100)\n",
    "    my_turtle.right(90\n",
    "                    \n",
    " # Draw a circle\n",
    "my_turtle.penup()\n",
    "my_turtle.goto(-200,50)\n",
    "my_turtle.pendown()\n",
    "my_turtle.circle(50)\n",
    "\n",
    "# Draw a triangle\n",
    "my_turtle.penup()\n",
    "my_turtle.goto(0,0)\n",
    "my_turtle.pendown()\n",
    "for i in range(3):\n",
    "    my_turtle.forward(100)\n",
    "    my_turtle.right(120)\n",
    "\n",
    "# Draw a pentagon\n",
    "my_turtle.penup()\n",
    "my_turtle.goto(200,0)\n",
    "my_turtle.pendown()\n",
    "for i in range(5):\n",
    "    my_turtle.forward(100)\n",
    "    my_turtle.right(72)\n",
    "\n",
    "# Hide the turtle and show the screen\n",
    "my_turtle.hideturtle()\n",
    "turtle.done()\n"
   ]
  },
  {
   "cell_type": "code",
   "execution_count": 5,
   "id": "02bb9367",
   "metadata": {},
   "outputs": [
    {
     "name": "stdout",
     "output_type": "stream",
     "text": [
      "Yes, it's a palindrome.\n"
     ]
    }
   ],
   "source": [
    "#python program tocheck whether a string is palindrome or not\n",
    "def isPalindrome(s):\n",
    "    return s == s[::-1]\n",
    "\n",
    "s = \"madam\"\n",
    "ans = isPalindrome(s)\n",
    "\n",
    "if ans:\n",
    "    print(\"Yes, it's a palindrome.\")\n",
    "else:\n",
    "    print(\"No, it's not a palindrome.\")\n",
    "\n"
   ]
  },
  {
   "cell_type": "code",
   "execution_count": 6,
   "id": "c576f3ca",
   "metadata": {},
   "outputs": [
    {
     "name": "stdout",
     "output_type": "stream",
     "text": [
      "        # \n",
      "       # # \n",
      "      # # # \n",
      "     # # # # \n",
      "    # # # # # \n",
      "   # # # # # # \n",
      "  # # # # # # # \n",
      " # # # # # # # # \n",
      "# # # # # # # # # \n"
     ]
    }
   ],
   "source": [
    "#python program to create pyramid patterns\n",
    "\n",
    "def pyramid(n):\n",
    "    for i in range(0, n):\n",
    "        for j in range(0, n-i-1):\n",
    "            print(end=\" \")\n",
    "        for j in range(0, i+1):\n",
    "            print(\"#\", end=\" \")\n",
    "        print()\n",
    "\n",
    "pyramid(9)\n",
    "\n"
   ]
  },
  {
   "cell_type": "code",
   "execution_count": 7,
   "id": "19a6ff38",
   "metadata": {},
   "outputs": [
    {
     "name": "stdout",
     "output_type": "stream",
     "text": [
      "File not found\n"
     ]
    }
   ],
   "source": [
    "#python programe to file creation and modification Date\n",
    "import os.path\n",
    "import time\n",
    "\n",
    "file_path =\"path/to/your/file.txt\"\n",
    "if os.path.exists(file_path):\n",
    "    creation_timestamp = os.path.getctime(file_path)\n",
    "    creation_date = time.ctime(creation_timestamp)\n",
    "    \n",
    "    modification_timesstamp = os.path.getmtime(file_path)\n",
    "    modification_date= time.cttime(modification_timesamp)\n",
    "    \n",
    "    print(\"File creation Date:\", creation_date)\n",
    "    print(\"File Modification Date:\",modification_date)\n",
    "else:\n",
    "    print(\"File not found\")"
   ]
  },
  {
   "cell_type": "code",
   "execution_count": 8,
   "id": "87429bff",
   "metadata": {},
   "outputs": [
    {
     "name": "stdout",
     "output_type": "stream",
     "text": [
      "{'a': 1, 'b': 2, 'c': 3}\n"
     ]
    }
   ],
   "source": [
    "#python program to convert lists to dictionary\n",
    "keys = ['a', 'b', 'c']\n",
    "values = [1, 2, 3]\n",
    "\n",
    "my_dict = {k: v for k, v in zip(keys, values)}\n",
    "print(my_dict)  # Output: {'a': 1, 'b': 2, 'c': 3}\n"
   ]
  },
  {
   "cell_type": "code",
   "execution_count": 9,
   "id": "a3af1be6",
   "metadata": {},
   "outputs": [
    {
     "name": "stdout",
     "output_type": "stream",
     "text": [
      "Press ENTER to start the timer, Press Ctrl + C to stop the timer\n",
      "\n",
      "Timer started...\n",
      "Timer stopped...\n",
      "Elapsed time: 20.636574099999052 seconds.\n"
     ]
    }
   ],
   "source": [
    "#python programe to create a lap time\n",
    "print(\"Press ENTER to start the timer, Press Ctrl + C to stop the timer\")\n",
    "\n",
    "while True:\n",
    "    try:\n",
    "        input()\n",
    "        start_time = time.perf_counter()\n",
    "        print(\"Timer started...\")\n",
    "        \n",
    "    except KeyboardInterrupt:\n",
    "        print(\"Timer stopped...\")\n",
    "        end_time = time.perf_counter()\n",
    "        print(\"Elapsed time:\", end_time - start_time, \"seconds.\")\n",
    "        break\n"
   ]
  },
  {
   "cell_type": "markdown",
   "id": "08ae3f7f",
   "metadata": {},
   "source": [
    "python programe to create unique values from dictionary value\n"
   ]
  },
  {
   "cell_type": "code",
   "execution_count": 6,
   "id": "3f5c1b1c",
   "metadata": {},
   "outputs": [
    {
     "name": "stdout",
     "output_type": "stream",
     "text": [
      "{1, 2, 3}\n"
     ]
    }
   ],
   "source": [
    " my_dict = {'a': 1, 'b': 2, 'c': 1, 'd': 2, 'e': 3}\n",
    "unique_values = set(my_dict.values())\n",
    "print(unique_values) \n",
    "\n"
   ]
  },
  {
   "cell_type": "code",
   "execution_count": null,
   "id": "9a812520",
   "metadata": {},
   "outputs": [],
   "source": []
  },
  {
   "cell_type": "code",
   "execution_count": null,
   "id": "174e898b",
   "metadata": {},
   "outputs": [],
   "source": []
  }
 ],
 "metadata": {
  "kernelspec": {
   "display_name": "Python 3 (ipykernel)",
   "language": "python",
   "name": "python3"
  },
  "language_info": {
   "codemirror_mode": {
    "name": "ipython",
    "version": 3
   },
   "file_extension": ".py",
   "mimetype": "text/x-python",
   "name": "python",
   "nbconvert_exporter": "python",
   "pygments_lexer": "ipython3",
   "version": "3.10.9"
  }
 },
 "nbformat": 4,
 "nbformat_minor": 5
}
