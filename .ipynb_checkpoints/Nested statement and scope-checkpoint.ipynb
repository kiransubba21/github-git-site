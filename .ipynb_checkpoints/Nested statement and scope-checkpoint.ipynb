{
 "cells": [
  {
   "cell_type": "code",
   "execution_count": 1,
   "id": "50446a61",
   "metadata": {},
   "outputs": [],
   "source": [
    " x=25\n",
    " def printer():\n",
    "     x = 50\n",
    "     return x"
   ]
  },
  {
   "cell_type": "code",
   "execution_count": 2,
   "id": "6aa449fc",
   "metadata": {},
   "outputs": [
    {
     "name": "stdout",
     "output_type": "stream",
     "text": [
      "25\n"
     ]
    }
   ],
   "source": [
    "print (x)"
   ]
  },
  {
   "cell_type": "code",
   "execution_count": 3,
   "id": "92250f38",
   "metadata": {},
   "outputs": [
    {
     "name": "stdout",
     "output_type": "stream",
     "text": [
      "50\n"
     ]
    }
   ],
   "source": [
    "print(printer())"
   ]
  },
  {
   "cell_type": "code",
   "execution_count": 9,
   "id": "9a8a17b8",
   "metadata": {},
   "outputs": [],
   "source": [
    " # x is local here:\n",
    " f = lambda x:x**2"
   ]
  },
  {
   "cell_type": "code",
   "execution_count": 10,
   "id": "3ce072cb",
   "metadata": {},
   "outputs": [
    {
     "name": "stdout",
     "output_type": "stream",
     "text": [
      "Hellosammy\n"
     ]
    }
   ],
   "source": [
    "name = 'This is a global name'\n",
    "def great():\n",
    "    #Enclosing Functions\n",
    "    name = 'sammy'\n",
    "    def hello():\n",
    "        print ('Hello'+name)\n",
    "    hello()\n",
    "great ()"
   ]
  },
  {
   "cell_type": "code",
   "execution_count": 11,
   "id": "b4984388",
   "metadata": {},
   "outputs": [
    {
     "data": {
      "text/plain": [
       "<function len(obj, /)>"
      ]
     },
     "execution_count": 11,
     "metadata": {},
     "output_type": "execute_result"
    }
   ],
   "source": [
    "len"
   ]
  },
  {
   "cell_type": "code",
   "execution_count": 12,
   "id": "19c78f2f",
   "metadata": {},
   "outputs": [
    {
     "name": "stdout",
     "output_type": "stream",
     "text": [
      "x is 50\n",
      "changed local x to 2\n",
      "x is still 50\n"
     ]
    }
   ],
   "source": [
    "x = 50\n",
    "def func(x):\n",
    "    print ('x is',x)\n",
    "    x = 2\n",
    "    print('changed local x to',x)\n",
    "func (x)\n",
    "print ('x is still', x)"
   ]
  },
  {
   "cell_type": "code",
   "execution_count": 13,
   "id": "2455c925",
   "metadata": {},
   "outputs": [
    {
     "name": "stdout",
     "output_type": "stream",
     "text": [
      "Before calling func(), x is: 50\n",
      "This is function is now using the global x!\n",
      "Because of global x is: 50\n",
      "Ran func(), changed global x to 2\n",
      "value of x (outside of func())is: 2\n"
     ]
    }
   ],
   "source": [
    "x = 50\n",
    "def func():\n",
    "    global x\n",
    "    print('This is function is now using the global x!')\n",
    "    print('Because of global x is:',x)\n",
    "    x = 2\n",
    "    print ('Ran func(), changed global x to',x)\n",
    "print('Before calling func(), x is:', x)\n",
    "func()\n",
    "print('value of x (outside of func())is:',x)"
   ]
  },
  {
   "cell_type": "code",
   "execution_count": null,
   "id": "ebf3c4ca",
   "metadata": {},
   "outputs": [],
   "source": []
  }
 ],
 "metadata": {
  "kernelspec": {
   "display_name": "Python 3 (ipykernel)",
   "language": "python",
   "name": "python3"
  },
  "language_info": {
   "codemirror_mode": {
    "name": "ipython",
    "version": 3
   },
   "file_extension": ".py",
   "mimetype": "text/x-python",
   "name": "python",
   "nbconvert_exporter": "python",
   "pygments_lexer": "ipython3",
   "version": "3.10.9"
  }
 },
 "nbformat": 4,
 "nbformat_minor": 5
}
