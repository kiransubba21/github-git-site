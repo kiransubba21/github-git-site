{
 "cells": [
  {
   "cell_type": "markdown",
   "id": "259b30fe",
   "metadata": {},
   "source": [
    "1. Write a Python program function that inputs a number and prints the multiplication\n",
    "table of that"
   ]
  },
  {
   "cell_type": "code",
   "execution_count": 9,
   "id": "6e89b100",
   "metadata": {},
   "outputs": [
    {
     "name": "stdout",
     "output_type": "stream",
     "text": [
      "Enter the number to print the tables for:9\n",
      "9 x 1 = 9\n",
      "9 x 2 = 18\n",
      "9 x 3 = 27\n",
      "9 x 4 = 36\n",
      "9 x 5 = 45\n",
      "9 x 6 = 54\n",
      "9 x 7 = 63\n",
      "9 x 8 = 72\n",
      "9 x 9 = 81\n",
      "9 x 10 = 90\n"
     ]
    }
   ],
   "source": [
    "num=int(input(\"Enter the number to print the tables for:\"))\n",
    "for i in range(1,11):\n",
    "    print(num,\"x\",i,\"=\",num*i)"
   ]
  },
  {
   "cell_type": "markdown",
   "id": "30607c85",
   "metadata": {},
   "source": [
    "2. Write a Python function to find the maximum and minimum of three numbers.\n"
   ]
  },
  {
   "cell_type": "code",
   "execution_count": 11,
   "id": "74cc52bc",
   "metadata": {},
   "outputs": [
    {
     "data": {
      "text/plain": [
       "5"
      ]
     },
     "execution_count": 11,
     "metadata": {},
     "output_type": "execute_result"
    }
   ],
   "source": [
    "max([3,4,5])"
   ]
  },
  {
   "cell_type": "code",
   "execution_count": 12,
   "id": "7d719bd0",
   "metadata": {},
   "outputs": [
    {
     "data": {
      "text/plain": [
       "4"
      ]
     },
     "execution_count": 12,
     "metadata": {},
     "output_type": "execute_result"
    }
   ],
   "source": [
    "min([4,5,6])"
   ]
  },
  {
   "cell_type": "markdown",
   "id": "e25060b1",
   "metadata": {},
   "source": [
    "3.Write a function that takes in a list of floats and returns True if the list contains\n",
    "duplicates and False if the list does not contain duplicates\n"
   ]
  },
  {
   "cell_type": "code",
   "execution_count": null,
   "id": "4b199c1e",
   "metadata": {},
   "outputs": [],
   "source": []
  },
  {
   "cell_type": "markdown",
   "id": "bd2f46b8",
   "metadata": {},
   "source": [
    "4. Write a LAMBDA function that takes in a list of floats and returns True if the list\n",
    "contains duplicates and False if the list does not contain duplicates"
   ]
  },
  {
   "cell_type": "code",
   "execution_count": null,
   "id": "fe9c6b5c",
   "metadata": {},
   "outputs": [],
   "source": []
  },
  {
   "cell_type": "markdown",
   "id": "55e2b9de",
   "metadata": {},
   "source": [
    "6. Generate a random list of 10 integers between 1 and 100, then print the minimum and\n",
    "maximum values.\n"
   ]
  },
  {
   "cell_type": "code",
   "execution_count": 13,
   "id": "c17d78c7",
   "metadata": {},
   "outputs": [
    {
     "name": "stdout",
     "output_type": "stream",
     "text": [
      "Maximum value: 98\n",
      "Minimum value: 60\n"
     ]
    }
   ],
   "source": [
    "my_list = [60,80,94,98]\n",
    "max_value = max(my_list)\n",
    "min_value = min(my_list)\n",
    "print(\"Maximum value:\", max_value)\n",
    "print(\"Minimum value:\", min_value)\n"
   ]
  },
  {
   "cell_type": "markdown",
   "id": "76bb80ed",
   "metadata": {},
   "source": [
    "7. Use argument (*args) to get the table of 8:"
   ]
  },
  {
   "cell_type": "code",
   "execution_count": 14,
   "id": "05318f98",
   "metadata": {},
   "outputs": [
    {
     "name": "stdout",
     "output_type": "stream",
     "text": [
      "8\n",
      "8 x 1 = 8\n",
      "8 x 2 = 16\n",
      "8 x 3 = 24\n",
      "8 x 4 = 32\n",
      "8 x 5 = 40\n",
      "8 x 6 = 48\n",
      "8 x 7 = 56\n",
      "8 x 8 = 64\n",
      "8 x 9 = 72\n",
      "8 x 10 = 80\n"
     ]
    }
   ],
   "source": [
    "n = int(input())\n",
    "print(n, \"x 1 =\", n*1)\n",
    "print(n, \"x 2 =\", n*2)\n",
    "print(n, \"x 3 =\", n*3)\n",
    "print(n, \"x 4 =\", n*4 )\n",
    "print(n, \"x 5 =\", n*5 )\n",
    "print(n, \"x 6 =\", n*6)\n",
    "print(n, \"x 7 =\", n*7)\n",
    "print(n, \"x 8 =\", n*8)\n",
    "print(n, \"x 9 =\", n*9)\n",
    "print(n, \"x 10 =\", n*10 )"
   ]
  },
  {
   "cell_type": "code",
   "execution_count": null,
   "id": "9509951e",
   "metadata": {},
   "outputs": [],
   "source": []
  }
 ],
 "metadata": {
  "kernelspec": {
   "display_name": "Python 3 (ipykernel)",
   "language": "python",
   "name": "python3"
  },
  "language_info": {
   "codemirror_mode": {
    "name": "ipython",
    "version": 3
   },
   "file_extension": ".py",
   "mimetype": "text/x-python",
   "name": "python",
   "nbconvert_exporter": "python",
   "pygments_lexer": "ipython3",
   "version": "3.10.9"
  }
 },
 "nbformat": 4,
 "nbformat_minor": 5
}
