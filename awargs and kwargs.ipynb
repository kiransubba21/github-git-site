{
 "cells": [
  {
   "cell_type": "code",
   "execution_count": 1,
   "id": "11bdb743",
   "metadata": {},
   "outputs": [],
   "source": [
    "#*args"
   ]
  },
  {
   "cell_type": "code",
   "execution_count": 2,
   "id": "108f5044",
   "metadata": {},
   "outputs": [],
   "source": [
    "def myfunc(a,b):\n",
    "    return sum ((a,b))*0.05 #sum((a,b))"
   ]
  },
  {
   "cell_type": "code",
   "execution_count": 3,
   "id": "15fe1bad",
   "metadata": {},
   "outputs": [
    {
     "data": {
      "text/plain": [
       "5.5"
      ]
     },
     "execution_count": 3,
     "metadata": {},
     "output_type": "execute_result"
    }
   ],
   "source": [
    "myfunc(60,50)"
   ]
  },
  {
   "cell_type": "code",
   "execution_count": 5,
   "id": "96239de5",
   "metadata": {},
   "outputs": [],
   "source": [
    "def myfunc (a,b,c=0,d=0):\n",
    "    return sum((a,b,c,d))*0.05"
   ]
  },
  {
   "cell_type": "code",
   "execution_count": 6,
   "id": "b1bbb045",
   "metadata": {},
   "outputs": [
    {
     "data": {
      "text/plain": [
       "5.0"
      ]
     },
     "execution_count": 6,
     "metadata": {},
     "output_type": "execute_result"
    }
   ],
   "source": [
    "myfunc (10,20,30,40)"
   ]
  },
  {
   "cell_type": "code",
   "execution_count": 7,
   "id": "3bdbb1b7",
   "metadata": {},
   "outputs": [],
   "source": [
    "def myfunc(*args):\n",
    "    return sum(args)*0.05"
   ]
  },
  {
   "cell_type": "code",
   "execution_count": 9,
   "id": "e1c8e8a0",
   "metadata": {},
   "outputs": [
    {
     "data": {
      "text/plain": [
       "14.0"
      ]
     },
     "execution_count": 9,
     "metadata": {},
     "output_type": "execute_result"
    }
   ],
   "source": [
    "myfunc (10,20,30,40,50,60,70)"
   ]
  },
  {
   "cell_type": "code",
   "execution_count": 22,
   "id": "41d75e57",
   "metadata": {},
   "outputs": [
    {
     "name": "stdout",
     "output_type": "stream",
     "text": [
      "10\n",
      "20\n",
      "30\n",
      "40\n",
      "50\n",
      "60\n",
      "70\n"
     ]
    }
   ],
   "source": [
    "def myfunc (*args):\n",
    "    for item in args:\n",
    "        print(item)\n",
    "myfunc(10,20,30,40,50,60,70)"
   ]
  },
  {
   "cell_type": "code",
   "execution_count": 23,
   "id": "041ce7f6",
   "metadata": {},
   "outputs": [
    {
     "name": "stdout",
     "output_type": "stream",
     "text": [
      "{'fruit': 'Apple', 'food': 'Rice', 'veggie': 'lettuce'}\n",
      "My choice of fruit is Rice\n"
     ]
    }
   ],
   "source": [
    "def myfunc(**kwargs):\n",
    "    print (kwargs)\n",
    "    if 'fruit' in kwargs:\n",
    "        print('My choice of fruit is {}'.format(kwargs['food']))\n",
    "    else:\n",
    "        print('I did not find any fruit here')\n",
    "myfunc(fruit='Apple',food='Rice',veggie='lettuce')"
   ]
  },
  {
   "cell_type": "code",
   "execution_count": 26,
   "id": "c19f4ce1",
   "metadata": {},
   "outputs": [],
   "source": [
    "def mynewfunc (*args,**kwargs):\n",
    "    print('I would like{} {}'.format(args[0],kwargs['food']))"
   ]
  },
  {
   "cell_type": "code",
   "execution_count": 27,
   "id": "ce8a57b5",
   "metadata": {},
   "outputs": [
    {
     "name": "stdout",
     "output_type": "stream",
     "text": [
      "I would like10 Biryani\n"
     ]
    }
   ],
   "source": [
    "mynewfunc(10,20,30,40,food= 'Biryani',fruit='mango',veggie='potato')"
   ]
  },
  {
   "cell_type": "code",
   "execution_count": 28,
   "id": "8b7137c8",
   "metadata": {},
   "outputs": [],
   "source": [
    "def myfunc(*args):\n",
    "    return len(args)"
   ]
  },
  {
   "cell_type": "code",
   "execution_count": 29,
   "id": "3c06204d",
   "metadata": {},
   "outputs": [
    {
     "data": {
      "text/plain": [
       "4"
      ]
     },
     "execution_count": 29,
     "metadata": {},
     "output_type": "execute_result"
    }
   ],
   "source": [
    "myfunc(5,6,7,8)"
   ]
  },
  {
   "cell_type": "code",
   "execution_count": null,
   "id": "576c9d26",
   "metadata": {},
   "outputs": [],
   "source": []
  }
 ],
 "metadata": {
  "kernelspec": {
   "display_name": "Python 3 (ipykernel)",
   "language": "python",
   "name": "python3"
  },
  "language_info": {
   "codemirror_mode": {
    "name": "ipython",
    "version": 3
   },
   "file_extension": ".py",
   "mimetype": "text/x-python",
   "name": "python",
   "nbconvert_exporter": "python",
   "pygments_lexer": "ipython3",
   "version": "3.10.9"
  }
 },
 "nbformat": 4,
 "nbformat_minor": 5
}
