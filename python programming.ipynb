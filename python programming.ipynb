{
 "cells": [
  {
   "cell_type": "code",
   "execution_count": 1,
   "id": "59812f63",
   "metadata": {},
   "outputs": [
    {
     "name": "stdout",
     "output_type": "stream",
     "text": [
      "Enter the year2024\n",
      "the year is a leap year\n"
     ]
    }
   ],
   "source": [
    "#python programme to check the leap year\n",
    "\n",
    "year = int(input(\"Enter the year\"))\n",
    "if (year%4==0 and year%100!=0):\n",
    "    print (\"the year is a leap year\")\n",
    "else:\n",
    "    print(\"the year is not a leap year\")"
   ]
  },
  {
   "cell_type": "code",
   "execution_count": 17,
   "id": "828779ba",
   "metadata": {},
   "outputs": [
    {
     "name": "stdout",
     "output_type": "stream",
     "text": [
      "Enter the number12\n",
      "2\n"
     ]
    },
    {
     "data": {
      "text/plain": [
       "[2, 3]"
      ]
     },
     "execution_count": 17,
     "metadata": {},
     "output_type": "execute_result"
    }
   ],
   "source": [
    "# python programme to prime number and print all prime numbers in an interval\n",
    "def prime():\n",
    "    num = int(input('Enter the number'))\n",
    "    if num<2:\n",
    "        return 0\n",
    "    primes = [2]\n",
    "    x = 3\n",
    "    while x<=num:\n",
    "        for y in range(3,x,2):\n",
    "            if x%y ==0:\n",
    "                x+=2\n",
    "                break\n",
    "        else:\n",
    "            primes.append(x)\n",
    "            x+=2\n",
    "        print(len(primes))\n",
    "        return primes\n",
    "prime()"
   ]
  },
  {
   "cell_type": "code",
   "execution_count": 1,
   "id": "11399f80",
   "metadata": {},
   "outputs": [
    {
     "name": "stdout",
     "output_type": "stream",
     "text": [
      "Enter the number6\n",
      "The factorial number of 6 is 720\n"
     ]
    }
   ],
   "source": [
    "#python programme to find the factorial of a number\n",
    "num = int(input('Enter the number'))\n",
    "num1=1\n",
    "for y in range(1, num+1):\n",
    "    num1=num1*y\n",
    "print(\"The factorial number of\",num, \"is\",num1)"
   ]
  },
  {
   "cell_type": "code",
   "execution_count": null,
   "id": "9e7e3627",
   "metadata": {},
   "outputs": [],
   "source": [
    "#print thew fibonacci of a number\n"
   ]
  }
 ],
 "metadata": {
  "kernelspec": {
   "display_name": "Python 3 (ipykernel)",
   "language": "python",
   "name": "python3"
  },
  "language_info": {
   "codemirror_mode": {
    "name": "ipython",
    "version": 3
   },
   "file_extension": ".py",
   "mimetype": "text/x-python",
   "name": "python",
   "nbconvert_exporter": "python",
   "pygments_lexer": "ipython3",
   "version": "3.10.9"
  }
 },
 "nbformat": 4,
 "nbformat_minor": 5
}
